{
 "cells": [
  {
   "cell_type": "markdown",
   "metadata": {},
   "source": [
    "# Employee Review Demo\n",
    "\n",
    "A demo of using [SurrealDB](https://surrealdb.com/) to query Kaggle's [Employee Review](https://www.kaggle.com/datasets/fiodarryzhykau/employee-review) dataset."
   ]
  },
  {
   "cell_type": "code",
   "execution_count": 1,
   "metadata": {},
   "outputs": [
    {
     "name": "stdout",
     "output_type": "stream",
     "text": [
      "Note: you may need to restart the kernel to use updated packages.\n"
     ]
    }
   ],
   "source": [
    "%pip -q install surrealdb pandas"
   ]
  },
  {
   "cell_type": "markdown",
   "metadata": {},
   "source": [
    "## Get started\n",
    "\n",
    "### Run database in container\n",
    "\n",
    "First, run SurrealDB as a container. I use [podman](https://podman.io/) because I like it better, but docker will work too.\n",
    "\n",
    "The volume mount is optional, in case you want to export your database.\n",
    "\n",
    "```{danger}\n",
    "Passing credentials like this is insecure and is for testing and demo only!\n",
    "```\n",
    "\n",
    "```bash\n",
    "podman run --rm -it -p 8000:8000 -v `pwd`/mydata:/mydata docker.io/surrealdb/surrealdb:latest start --auth --user root --pass testing \n",
    "```\n",
    "\n",
    "You should see\n",
    "\n",
    "> INFO surrealdb::net: Started web server on 0.0.0.0:8000"
   ]
  },
  {
   "cell_type": "markdown",
   "metadata": {},
   "source": [
    "### Login to database\n",
    "\n",
    "We will use the [Python SDK for SurrealDB](https://docs.surrealdb.com/docs/integration/sdks/python/).\n",
    "\n",
    "Note that I believe Python is an awful language and you should avoid it in most production cases. But for this demo notebook, eh, I suppose I can hold my nose and do it.\n",
    "\n",
    "SurrealDB has a plethora of SDKs to chose from, though they aren't as developed as one might hope."
   ]
  },
  {
   "cell_type": "code",
   "execution_count": 2,
   "metadata": {},
   "outputs": [
    {
     "name": "stdout",
     "output_type": "stream",
     "text": [
      "ConnectionState.CONNECTED\n"
     ]
    }
   ],
   "source": [
    "from surrealdb import Surreal\n",
    "\n",
    "db = Surreal(\"http://localhost:8000\")\n",
    "await db.connect()\n",
    "\n",
    "# NOTE: This is an insecure way of handling credentials and should not be used in production.\n",
    "await db.signin({\"user\": \"root\", \"pass\": \"testing\"})\n",
    "await db.use(\"test\", \"test\")\n",
    "\n",
    "print(db.client_state)"
   ]
  },
  {
   "cell_type": "markdown",
   "metadata": {},
   "source": [
    "## Preview data\n",
    "\n",
    "Again, this dataset is from Kaggle's [Employee Review](https://www.kaggle.com/datasets/fiodarryzhykau/employee-review).\n",
    "\n",
    "Let's check it out. We'll also grab a list of unique names because we will need those."
   ]
  },
  {
   "cell_type": "code",
   "execution_count": 3,
   "metadata": {},
   "outputs": [
    {
     "name": "stdout",
     "output_type": "stream",
     "text": [
      "<class 'pandas.core.frame.DataFrame'>\n",
      "RangeIndex: 225 entries, 0 to 224\n",
      "Data columns (total 7 columns):\n",
      " #   Column      Non-Null Count  Dtype \n",
      "---  ------      --------------  ----- \n",
      " 0   employeeId  225 non-null    int64 \n",
      " 1   name        225 non-null    object\n",
      " 2   year        225 non-null    int64 \n",
      " 3   team        225 non-null    object\n",
      " 4   nine_box    225 non-null    int64 \n",
      " 5   feedback    225 non-null    object\n",
      " 6   Source      225 non-null    object\n",
      "dtypes: int64(3), object(4)\n",
      "memory usage: 12.4+ KB\n",
      "None\n",
      "Unique employees in dataset: 75\n"
     ]
    }
   ],
   "source": [
    "# Preview the CSV\n",
    "import pandas as pd\n",
    "\n",
    "# Load the CSV file\n",
    "file_path = 'augmented_employee_feedback.csv'\n",
    "data = pd.read_csv(file_path)\n",
    "\n",
    "# Display the info about the dataframe\n",
    "print(data.info())\n",
    "\n",
    "# For each unique employeeId in the CSV\n",
    "unique_employeeId = data['employeeId'].unique()\n",
    "print(\"Unique employees in dataset:\", len(unique_employeeId))\n"
   ]
  },
  {
   "cell_type": "markdown",
   "metadata": {},
   "source": [
    "## Create member table\n",
    "\n",
    "The first thing we will do with our database is create table to put the members of our company in. Let's call it **member**.\n",
    "\n",
    "We will use a [schemafull table](https://docs.surrealdb.com/docs/surrealql/statements/define/table#schemafull-tables)\n",
    "because then the database will strictly enforce the definitions we add to the table for each record.\n",
    "\n",
    "While schemaless tables offer advantages in flexibility, for something as critical as the cornerstone record of who an employee is, schemafull is *absolutely* the way to go.\n",
    "\n",
    "The queries can get a tad unwieldy, so I like to preview the string before sending to the database."
   ]
  },
  {
   "cell_type": "code",
   "execution_count": 4,
   "metadata": {},
   "outputs": [
    {
     "name": "stdout",
     "output_type": "stream",
     "text": [
      "\n",
      "# Create primary table for holding member info\n",
      "DEFINE TABLE member SCHEMAFULL;\n",
      "\n",
      "# Name\n",
      "DEFINE FIELD name ON TABLE member TYPE string;\n",
      "\n",
      "# Employee ID as unique index\n",
      "DEFINE FIELD employeeId ON TABLE member TYPE int\n",
      "    ASSERT employeeId > 10000 && employeeId < 99999;\n",
      "DEFINE INDEX employeeIdIndex ON TABLE member COLUMNS employeeId UNIQUE;\n",
      "\n"
     ]
    }
   ],
   "source": [
    "member_tb = \"member\"\n",
    "createMemberQuery = f\"\"\"\n",
    "# Create primary table for holding member info\n",
    "DEFINE TABLE {member_tb} SCHEMAFULL;\n",
    "\n",
    "# Name\n",
    "DEFINE FIELD name ON TABLE {member_tb} TYPE string;\n",
    "\n",
    "# Employee ID as unique index\n",
    "DEFINE FIELD employeeId ON TABLE {member_tb} TYPE int\n",
    "    ASSERT employeeId > 10000 && employeeId < 99999;\n",
    "DEFINE INDEX employeeIdIndex ON TABLE {member_tb} COLUMNS employeeId UNIQUE;\n",
    "\"\"\"\n",
    "\n",
    "print(createMemberQuery)"
   ]
  },
  {
   "cell_type": "code",
   "execution_count": 5,
   "metadata": {},
   "outputs": [
    {
     "data": {
      "text/plain": [
       "[{'result': {'events': {},\n",
       "   'fields': {'employeeId': 'DEFINE FIELD employeeId ON member TYPE int ASSERT employeeId > 10000 AND employeeId < 99999 PERMISSIONS FULL',\n",
       "    'name': 'DEFINE FIELD name ON member TYPE string PERMISSIONS FULL'},\n",
       "   'indexes': {'employeeIdIndex': 'DEFINE INDEX employeeIdIndex ON member FIELDS employeeId UNIQUE'},\n",
       "   'lives': {},\n",
       "   'tables': {}},\n",
       "  'status': 'OK',\n",
       "  'time': '4.156837ms'}]"
      ]
     },
     "execution_count": 5,
     "metadata": {},
     "output_type": "execute_result"
    }
   ],
   "source": [
    "# If the command to create the member table looks good, go ahead and create it.\n",
    "await db.query(createMemberQuery)\n",
    "# Verify the table was created\n",
    "await db.query(\"INFO FOR TABLE member;\")"
   ]
  },
  {
   "cell_type": "markdown",
   "metadata": {},
   "source": [
    "### employeeId\n",
    "\n",
    "Let's randomly assign each employee an ID number. Recall that the schema definition above enforces that `employeeId` is\n",
    "\n",
    "- **UNIQUE** amongst all `employeeIds`\n",
    "- A string made up of 5 digits\n",
    "- [Indexed](https://docs.surrealdb.com/docs/surrealql/statements/define/indexes) with `employeeIdIndex`.\n",
    "\n",
    "The record creation here will fail if any of those criteria (as well as the other definitions) are not met."
   ]
  },
  {
   "cell_type": "code",
   "execution_count": 6,
   "metadata": {},
   "outputs": [
    {
     "name": "stdout",
     "output_type": "stream",
     "text": [
      "Added records: 75\n",
      "Errors adding: 0\n",
      "Failed records:\n",
      " []\n"
     ]
    }
   ],
   "source": [
    "from random import randint\n",
    "\n",
    "# Roster of entries\n",
    "records_added = 0\n",
    "failed_records: list[dict[str, str]] = []\n",
    "\n",
    "# Iterate through the unique employee IDs in data and get the name\n",
    "for employee_id in unique_employeeId:\n",
    "    # Get the name for the employee ID\n",
    "    name = data.loc[data['employeeId'] == employee_id, 'name'].iloc[0]\n",
    "    # Add the person to the member table\n",
    "    try:\n",
    "        result = await db.create(member_tb + \":\" + str(employee_id), {\n",
    "        'name': name,\n",
    "        'employeeId': int(employee_id),\n",
    "        })\n",
    "        records_added = records_added + 1\n",
    "    except Exception as e:\n",
    "        failed_records.append({name, e})\n",
    "\n",
    "print(\"Added records:\", records_added)\n",
    "print(\"Errors adding:\", len(failed_records))\n",
    "print(\"Failed records:\\n\", failed_records)"
   ]
  },
  {
   "cell_type": "code",
   "execution_count": 7,
   "metadata": {},
   "outputs": [
    {
     "data": {
      "text/plain": [
       "[{'result': [{'employeeId': 11287,\n",
       "    'id': 'member:11287',\n",
       "    'name': 'Deon Griffith'},\n",
       "   {'employeeId': 12605, 'id': 'member:12605', 'name': 'Ivan Reese'},\n",
       "   {'employeeId': 13965, 'id': 'member:13965', 'name': 'Ella Green'},\n",
       "   {'employeeId': 17072, 'id': 'member:17072', 'name': 'Amy Jones'},\n",
       "   {'employeeId': 17293, 'id': 'member:17293', 'name': 'Daisy Pearce'}],\n",
       "  'status': 'OK',\n",
       "  'time': '130.031µs'}]"
      ]
     },
     "execution_count": 7,
     "metadata": {},
     "output_type": "execute_result"
    }
   ],
   "source": [
    "# View some of the results\n",
    "await db.query(f\"SELECT * FROM {member_tb} LIMIT 5;\")"
   ]
  },
  {
   "cell_type": "markdown",
   "metadata": {},
   "source": [
    "## Add performance feedback\n",
    "\n",
    "Now that we have our employees loaded in to the database, let's add the performance feedback!\n",
    "\n",
    "### Create feedback table\n",
    "\n",
    "This table will be a schemafull **edge** table: **gotFeedback**. I advocate for schemafull here because I'm imagining a standard feedback form with fields that must be filled in.\n",
    "\n",
    "Additionally, there are some advantages for queries if you standardize fields. We will see this in action below."
   ]
  },
  {
   "cell_type": "code",
   "execution_count": 8,
   "metadata": {},
   "outputs": [
    {
     "name": "stdout",
     "output_type": "stream",
     "text": [
      "\n",
      "DEFINE TABLE gotFeedback SCHEMAFULL;\n",
      "DEFINE FIELD date on TABLE gotFeedback TYPE datetime;\n",
      "DEFINE FIELD body ON TABLE gotFeedback TYPE string;\n",
      "DEFINE FIELD rating ON TABLE gotFeedback TYPE number\n",
      "    ASSERT rating >= 1 && rating <= 9;\n",
      "DEFINE FIELD team ON TABLE gotFeedback TYPE record<team>;\n",
      "\n"
     ]
    }
   ],
   "source": [
    "# Create a schemafull table for feedback\n",
    "feedback_tb = \"gotFeedback\"\n",
    "createFeedbackQuery = f\"\"\"\n",
    "DEFINE TABLE {feedback_tb} SCHEMAFULL;\n",
    "DEFINE FIELD date on TABLE {feedback_tb} TYPE datetime;\n",
    "DEFINE FIELD body ON TABLE {feedback_tb} TYPE string;\n",
    "DEFINE FIELD rating ON TABLE {feedback_tb} TYPE number\n",
    "    ASSERT rating >= 1 && rating <= 9;\n",
    "DEFINE FIELD team ON TABLE {feedback_tb} TYPE record<team>;\n",
    "\"\"\"\n",
    "\n",
    "print(createFeedbackQuery)"
   ]
  },
  {
   "cell_type": "code",
   "execution_count": 9,
   "metadata": {},
   "outputs": [
    {
     "name": "stdout",
     "output_type": "stream",
     "text": [
      "[{'result': {'events': {}, 'fields': {'body': 'DEFINE FIELD body ON gotFeedback TYPE string PERMISSIONS FULL', 'date': 'DEFINE FIELD date ON gotFeedback TYPE datetime PERMISSIONS FULL', 'rating': 'DEFINE FIELD rating ON gotFeedback TYPE number ASSERT rating >= 1 AND rating <= 9 PERMISSIONS FULL', 'team': 'DEFINE FIELD team ON gotFeedback TYPE record<team> PERMISSIONS FULL'}, 'indexes': {}, 'lives': {}, 'tables': {}}, 'status': 'OK', 'time': '147.805µs'}]\n"
     ]
    }
   ],
   "source": [
    "# If the command to create the table looks good, go ahead and create it.\n",
    "await db.query(createFeedbackQuery)\n",
    "# Verify the table was created\n",
    "print(await db.query(f\"INFO FOR TABLE {feedback_tb};\"))"
   ]
  },
  {
   "cell_type": "markdown",
   "metadata": {},
   "source": [
    "#### Define team table\n",
    "\n",
    "We also happen to need a team table"
   ]
  },
  {
   "cell_type": "code",
   "execution_count": 10,
   "metadata": {},
   "outputs": [],
   "source": [
    "# Define a schemaless team table\n",
    "await db.query(\"DEFINE TABLE team SCHEMALESS;\")\n",
    "\n",
    "# Iterate over the teams and add them to the team table\n",
    "for team in data['team'].unique():\n",
    "    try:\n",
    "        await db.create(\"team:\" + team, {\n",
    "            'name': team,\n",
    "        })\n",
    "    except Exception as e:\n",
    "        print(e)\n",
    "        break"
   ]
  },
  {
   "cell_type": "markdown",
   "metadata": {},
   "source": [
    "### Add Feedback\n",
    "\n",
    "To add the feedback to our database we'll make a few assumptions. Specifically, we'll randomly select and assign a manager and date."
   ]
  },
  {
   "cell_type": "code",
   "execution_count": 11,
   "metadata": {},
   "outputs": [
    {
     "name": "stdout",
     "output_type": "stream",
     "text": [
      "[31666 93665 78812 58666 69269]\n"
     ]
    }
   ],
   "source": [
    "# Assume managers are the last 5 names in the list\n",
    "managers = unique_employeeId[-5:]\n",
    "print(managers)"
   ]
  },
  {
   "cell_type": "code",
   "execution_count": 12,
   "metadata": {},
   "outputs": [
    {
     "name": "stdout",
     "output_type": "stream",
     "text": [
      "Added records: 225\n",
      "Errors adding: 0\n",
      "Failed records:\n",
      " []\n"
     ]
    }
   ],
   "source": [
    "from random import choice\n",
    "\n",
    "# Go through each feedback and add it to the database with a randomly selected manager\n",
    "feedback_df = data[['employeeId','feedback', 'team', 'year', 'nine_box']]\n",
    "# Roster of entries\n",
    "records_added = 0\n",
    "failed_records: list[dict[str, str]] = []\n",
    "\n",
    "# Add feedback\n",
    "for _, row in feedback_df.iterrows():\n",
    "    # Randomly generate datetime for when feedback happened since dataset only has year\n",
    "    feedbackDate = str(row.year) + \"-\" + str(randint(10,12)) + \"-\" + str(randint(10,28))\n",
    "    feedbackDate = feedbackDate + \"T00:00:00Z\"\n",
    "    try:\n",
    "        # Convert employeeId and nine_box to int because JSON doesn't like numpy\n",
    "        employeeId = int(row.employeeId)\n",
    "        nine_box = int(row.nine_box)\n",
    "        # Since  we used the employeeId as the id for the member, we can just add the prefix\n",
    "        raterId = \"member:\" + str(choice(managers))\n",
    "        # Get id of member\n",
    "        memberId = await db.query(f\"\"\"SELECT id FROM member WHERE employeeId = {employeeId};\"\"\")\n",
    "        memberId = memberId[0][\"result\"][0][\"id\"]\n",
    "        query = f\"\"\"RELATE {memberId}->gotFeedback->{raterId} CONTENT {{\n",
    "                    'date': \"{feedbackDate}\",\n",
    "                    'rating': {nine_box},\n",
    "                    'team': team:{row.team},\n",
    "                    'body': \"{row.feedback.replace('\"', \"'\")}\",   \n",
    "                  }};\n",
    "                  \"\"\"\n",
    "        result = await db.query(query)\n",
    "        # If result contains 'status': 'ERR' then throw an exception\n",
    "        if result[0][\"status\"] == \"ERR\":\n",
    "            raise Exception(result)\n",
    "        \n",
    "        records_added = records_added +1\n",
    "    except Exception as e:\n",
    "        failed_records.append({name, e})\n",
    "\n",
    "print(\"Added records:\", records_added)\n",
    "print(\"Errors adding:\", len(failed_records))\n",
    "print(\"Failed records:\\n\", failed_records)\n",
    "\n",
    "    "
   ]
  },
  {
   "cell_type": "markdown",
   "metadata": {},
   "source": [
    "## Query Feedback Records\n",
    "\n",
    "We will step through a few queries to showcase the power and speed of the hybrid database!\n",
    "\n",
    "First, just show a sample of the feedback."
   ]
  },
  {
   "cell_type": "code",
   "execution_count": 13,
   "metadata": {},
   "outputs": [
    {
     "name": "stdout",
     "output_type": "stream",
     "text": [
      "[\n",
      "  {\n",
      "    \"result\": [\n",
      "      {\n",
      "        \"body\": \"Rachel is the star worker! She loves to come in and work until theres nothing left. The only thing she needs to work on is being more expressive. By doing that she could be able to lead one day.\",\n",
      "        \"date\": \"2017-10-12T00:00:00Z\",\n",
      "        \"id\": \"gotFeedback:05mw2y00dmy1gxrujylk\",\n",
      "        \"in\": \"member:25771\",\n",
      "        \"out\": \"member:69269\",\n",
      "        \"rating\": 6,\n",
      "        \"team\": \"team:red\"\n",
      "      }\n",
      "    ],\n",
      "    \"status\": \"OK\",\n",
      "    \"time\": \"104.735\\u00b5s\"\n",
      "  }\n",
      "]\n"
     ]
    }
   ],
   "source": [
    "from json import dumps\n",
    "\n",
    "# Show a sample of the feedback\n",
    "print(dumps(await db.query(f\"SELECT * FROM {feedback_tb} LIMIT 1;\"), indent=2))"
   ]
  },
  {
   "cell_type": "markdown",
   "metadata": {},
   "source": [
    "### Get employee feedback\n",
    "\n",
    "We can easily get all of the feedback every provided to an employee!\n",
    "\n",
    "Let's use **Valeria Crane**, `employeeId=66919` as an example."
   ]
  },
  {
   "cell_type": "code",
   "execution_count": 14,
   "metadata": {},
   "outputs": [
    {
     "name": "stdout",
     "output_type": "stream",
     "text": [
      "[\n",
      "  {\n",
      "    \"result\": [\n",
      "      {\n",
      "        \"body\": \"Valeria Crane is a hazard in our team. She has shown no signs of reliability. She is difficult to work with and does not seem motivated. Valeria needs a lot of guidance to complete tasks.\",\n",
      "        \"raterName\": \"George Jones\"\n",
      "      },\n",
      "      {\n",
      "        \"body\": \"Valeria Crane has shown little in her work to amaze. So far it has been of a level below standard. We have not seen a consistent member of the team. Undertaking tasks has been a poor turn out so far from Valeria.\",\n",
      "        \"raterName\": \"Ivanna Boyer\"\n",
      "      },\n",
      "      {\n",
      "        \"body\": \"Valeria is considered a risk. She has not been performing up to required standards. We have tried working with her to improve and there has not been any improvement. More testing will be required, but I would not recommend for personal advancement until noticeable and consistent improvement from management.\",\n",
      "        \"raterName\": \"Lauren Baker\"\n",
      "      },\n",
      "      {\n",
      "        \"body\": \"To simply but, Valeria is currently ranked last in the customer service leaderboard, having missed some basic but important sales target and slacking off at work. She is constantly on her phone to the point where we had to bar the use of phones within the office, causing inconvenience to genuine team members. I am afraid, unless she improves, she may be counting her last few weeks in this company.\",\n",
      "        \"raterName\": \"Lauren Baker\"\n",
      "      }\n",
      "    ],\n",
      "    \"status\": \"OK\",\n",
      "    \"time\": \"142.814\\u00b5s\"\n",
      "  }\n",
      "]\n"
     ]
    }
   ],
   "source": [
    "# Get all the feedback a person has ever gotten (use Valeria Crane as an example)\n",
    "# This syntax uses the graph query syntax to iterate the outgoing edges of the member object. It's very fast.\n",
    "print(dumps(await db.query(\"SELECT body, out.name AS raterName FROM member:66919->gotFeedback;\"), indent=2))"
   ]
  },
  {
   "cell_type": "markdown",
   "metadata": {},
   "source": [
    "What if we only want the most recent feedback? No problem."
   ]
  },
  {
   "cell_type": "code",
   "execution_count": 15,
   "metadata": {},
   "outputs": [
    {
     "name": "stdout",
     "output_type": "stream",
     "text": [
      "[\n",
      "  {\n",
      "    \"result\": [\n",
      "      {\n",
      "        \"body\": \"Valeria Crane has shown little in her work to amaze. So far it has been of a level below standard. We have not seen a consistent member of the team. Undertaking tasks has been a poor turn out so far from Valeria.\",\n",
      "        \"date\": \"2018-11-15T00:00:00Z\",\n",
      "        \"raterName\": \"Ivanna Boyer\"\n",
      "      }\n",
      "    ],\n",
      "    \"status\": \"OK\",\n",
      "    \"time\": \"185.5\\u00b5s\"\n",
      "  }\n",
      "]\n"
     ]
    }
   ],
   "source": [
    "# Get the most recent feedback for Valeria Crane\n",
    "print(dumps(await db.query(\"SELECT body, out.name AS raterName, date FROM member:66919->gotFeedback ORDER BY date DESC LIMIT 1;\"), indent=2))"
   ]
  },
  {
   "cell_type": "markdown",
   "metadata": {},
   "source": [
    "### Ask questions about the rater\n",
    "\n",
    "What if we want to know about how a rater evaluates her subordinates?\n",
    "\n",
    "We will use **Ivanna Boyer**, `employeeId=69269` as an example.\n",
    "\n",
    "There are three ways we can fetch every record of feedback a rater has given.\n",
    "You can see them below and uncomment the other options to experiment.\n",
    "Note that the time differences will be more pronounced if you remove the `LIMIT 3` statement."
   ]
  },
  {
   "cell_type": "code",
   "execution_count": 16,
   "metadata": {},
   "outputs": [
    {
     "name": "stdout",
     "output_type": "stream",
     "text": [
      "[\n",
      "  {\n",
      "    \"result\": [\n",
      "      {\n",
      "        \"rateeName\": \"Rachel Harper\"\n",
      "      },\n",
      "      {\n",
      "        \"rateeName\": \"Libby Parker\"\n",
      "      },\n",
      "      {\n",
      "        \"rateeName\": \"Rachel Harper\"\n",
      "      }\n",
      "    ],\n",
      "    \"status\": \"OK\",\n",
      "    \"time\": \"234.296\\u00b5s\"\n",
      "  }\n",
      "]\n"
     ]
    }
   ],
   "source": [
    "# Get the name of every person this rater has ever given feedback on (use Ivanna Boyer as an example)\n",
    "# Added a LIMIT 3 to make the result easier to read\n",
    "\n",
    "# This syntax uses graph query to iterate over the edges of the rater to the gotFeedback table. It's very fast.\n",
    "print(dumps(await db.query(\"SELECT in.name AS rateeName FROM member:69269<-gotFeedback LIMIT 3;\"), indent=2))\n",
    "\n",
    "# This syntax uses graph query syntax to iterate over the rater member object. It's somewhat fast.\n",
    "# print(dumps(await db.query(\"SELECT <-gotFeedback.in.name AS rateeName FROM member:69269 LIMIT 3;\"), indent=2))\n",
    "\n",
    "# This syntax uses traditional SQL syntax to iterate over the gotFeedback table. It's painfully slow.\n",
    "# print(dumps(await db.query(\"SELECT in.name AS rateeName FROM gotFeedback WHERE out = member:69269 LIMIT 3;\"), indent=2))\n"
   ]
  },
  {
   "cell_type": "markdown",
   "metadata": {},
   "source": [
    "You can also do filtering; for example, only get ratees who received feedback while on the **green** team."
   ]
  },
  {
   "cell_type": "code",
   "execution_count": 17,
   "metadata": {},
   "outputs": [
    {
     "name": "stdout",
     "output_type": "stream",
     "text": [
      "[\n",
      "  {\n",
      "    \"result\": [\n",
      "      {\n",
      "        \"rateeName\": \"Ella Green\"\n",
      "      },\n",
      "      {\n",
      "        \"rateeName\": \"Logan Ellis\"\n",
      "      },\n",
      "      {\n",
      "        \"rateeName\": \"Ella Powers\"\n",
      "      },\n",
      "      {\n",
      "        \"rateeName\": \"Georgia King\"\n",
      "      }\n",
      "    ],\n",
      "    \"status\": \"OK\",\n",
      "    \"time\": \"633.237\\u00b5s\"\n",
      "  }\n",
      "]\n"
     ]
    }
   ],
   "source": [
    "# Get the name of every person Ivanna Boyer rated while they were on the green team\n",
    "# This syntax uses the graph query syntax to iterate edges of the graph. It's very fast.\n",
    "print(dumps(await db.query(\"SELECT in.name AS rateeName FROM member:69269<-gotFeedback WHERE team=team:green;\"), indent=2))\n",
    "\n",
    "# You can also do this by using the traditional SQL syntax to iterate over the gotFeedback table. It's very slow.\n",
    "# print(dumps(await db.query(\"SELECT in.name AS rateeName FROM gotFeedback WHERE team = team:green && out = member:69269;\"), indent=2))"
   ]
  }
 ],
 "metadata": {
  "kernelspec": {
   "display_name": ".venv",
   "language": "python",
   "name": "python3"
  },
  "language_info": {
   "codemirror_mode": {
    "name": "ipython",
    "version": 3
   },
   "file_extension": ".py",
   "mimetype": "text/x-python",
   "name": "python",
   "nbconvert_exporter": "python",
   "pygments_lexer": "ipython3",
   "version": "3.10.12"
  }
 },
 "nbformat": 4,
 "nbformat_minor": 2
}
