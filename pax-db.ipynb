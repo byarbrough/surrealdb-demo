{
 "cells": [
  {
   "cell_type": "markdown",
   "metadata": {},
   "source": [
    "# Employee Review Demo\n",
    "\n",
    "A demo of using [SurrealDB](https://surrealdb.com/) to query Kaggle's [Employee Review](https://www.kaggle.com/datasets/fiodarryzhykau/employee-review) dataset."
   ]
  },
  {
   "cell_type": "code",
   "execution_count": 80,
   "metadata": {},
   "outputs": [
    {
     "name": "stdout",
     "output_type": "stream",
     "text": [
      "Note: you may need to restart the kernel to use updated packages.\n"
     ]
    }
   ],
   "source": [
    "%pip -q install surrealdb pandas"
   ]
  },
  {
   "cell_type": "markdown",
   "metadata": {},
   "source": [
    "## Get started\n",
    "\n",
    "### Run database in container\n",
    "\n",
    "First, run SurrealDB as a container. I use [podman](https://podman.io/) because I like it better, but docker will work too.\n",
    "\n",
    "The volume mount is optional, in case you want to export your database.\n",
    "\n",
    "```{danger}\n",
    "Passing credentials like this is insecure and is for testing and demo only!\n",
    "```\n",
    "\n",
    "```bash\n",
    "podman run --rm -it -p 8000:8000 -v `pwd`/mydata:/mydata docker.io/surrealdb/surrealdb:latest start --auth --user root --pass testing \n",
    "```\n",
    "\n",
    "You should see\n",
    "\n",
    "> INFO surrealdb::net: Started web server on 0.0.0.0:8000"
   ]
  },
  {
   "cell_type": "markdown",
   "metadata": {},
   "source": [
    "### Login to database\n",
    "\n",
    "We will use the [Python SDK for SurrealDB](https://docs.surrealdb.com/docs/integration/sdks/python/).\n",
    "\n",
    "Note that I believe Python is an awful language and you should avoid it in most production cases. But for this demo notebook, eh, I suppose I can hold my nose and do it.\n",
    "\n",
    "SurrealDB has a plethora of SDKs to chose from, though they aren't as developed as one might hope."
   ]
  },
  {
   "cell_type": "code",
   "execution_count": 81,
   "metadata": {},
   "outputs": [
    {
     "name": "stdout",
     "output_type": "stream",
     "text": [
      "ConnectionState.CONNECTED\n"
     ]
    }
   ],
   "source": [
    "from surrealdb import Surreal\n",
    "\n",
    "db = Surreal(\"http://localhost:8000\")\n",
    "await db.connect()\n",
    "\n",
    "# NOTE: This is an insecure way of handling credentials and should not be used in production.\n",
    "await db.signin({\"user\": \"root\", \"pass\": \"testing\"})\n",
    "await db.use(\"test\", \"test\")\n",
    "\n",
    "print(db.client_state)"
   ]
  },
  {
   "cell_type": "markdown",
   "metadata": {},
   "source": [
    "## Preview data\n",
    "\n",
    "Again, this dataset is from Kaggle's [Employee Review](https://www.kaggle.com/datasets/fiodarryzhykau/employee-review).\n",
    "\n",
    "Let's check it out. We'll also grab a list of unique names because we will need those."
   ]
  },
  {
   "cell_type": "code",
   "execution_count": 82,
   "metadata": {},
   "outputs": [
    {
     "name": "stdout",
     "output_type": "stream",
     "text": [
      "<class 'pandas.core.frame.DataFrame'>\n",
      "RangeIndex: 225 entries, 0 to 224\n",
      "Data columns (total 7 columns):\n",
      " #   Column      Non-Null Count  Dtype \n",
      "---  ------      --------------  ----- \n",
      " 0   employeeId  225 non-null    int64 \n",
      " 1   name        225 non-null    object\n",
      " 2   year        225 non-null    int64 \n",
      " 3   team        225 non-null    object\n",
      " 4   nine_box    225 non-null    int64 \n",
      " 5   feedback    225 non-null    object\n",
      " 6   Source      225 non-null    object\n",
      "dtypes: int64(3), object(4)\n",
      "memory usage: 12.4+ KB\n",
      "None\n",
      "Unique employees in dataset: 75\n"
     ]
    }
   ],
   "source": [
    "# Preview the CSV\n",
    "import pandas as pd\n",
    "\n",
    "# Load the CSV file\n",
    "file_path = 'augmented_employee_feedback.csv'\n",
    "data = pd.read_csv(file_path)\n",
    "\n",
    "# Display the info about the dataframe\n",
    "print(data.info())\n",
    "\n",
    "# For each unique employeeId in the CSV\n",
    "unique_employeeId = data['employeeId'].unique()\n",
    "print(\"Unique employees in dataset:\", len(unique_employeeId))\n"
   ]
  },
  {
   "cell_type": "markdown",
   "metadata": {},
   "source": [
    "## Create member table\n",
    "\n",
    "The first thing we will do with our database is create table to put the members of our company in. Let's call it **member**.\n",
    "\n",
    "We will use a [schemafull table](https://docs.surrealdb.com/docs/surrealql/statements/define/table#schemafull-tables)\n",
    "because then the database will strictly enforce the definitions we add to the table for each record.\n",
    "\n",
    "While schemaless tables offer advantages in flexibility, for something as critical as the cornerstone record of who an employee is, schemafull is *absolutely* the way to go.\n",
    "\n",
    "The queries can get a tad unwieldy, so I like to preview the string before sending to the database."
   ]
  },
  {
   "cell_type": "code",
   "execution_count": 83,
   "metadata": {},
   "outputs": [
    {
     "name": "stdout",
     "output_type": "stream",
     "text": [
      "\n",
      "# Create primary table for holding member info\n",
      "DEFINE TABLE member SCHEMAFULL;\n",
      "\n",
      "# Name\n",
      "DEFINE FIELD name ON TABLE member TYPE string;\n",
      "\n",
      "# Employee ID as unique index\n",
      "DEFINE FIELD employeeId ON TABLE member TYPE int\n",
      "    ASSERT employeeId > 10000 && employeeId < 99999;\n",
      "DEFINE INDEX employeeIdIndex ON TABLE member COLUMNS employeeId UNIQUE;\n",
      "\n"
     ]
    }
   ],
   "source": [
    "member_tb = \"member\"\n",
    "createMemberQuery = f\"\"\"\n",
    "# Create primary table for holding member info\n",
    "DEFINE TABLE {member_tb} SCHEMAFULL;\n",
    "\n",
    "# Name\n",
    "DEFINE FIELD name ON TABLE {member_tb} TYPE string;\n",
    "\n",
    "# Employee ID as unique index\n",
    "DEFINE FIELD employeeId ON TABLE {member_tb} TYPE int\n",
    "    ASSERT employeeId > 10000 && employeeId < 99999;\n",
    "DEFINE INDEX employeeIdIndex ON TABLE {member_tb} COLUMNS employeeId UNIQUE;\n",
    "\"\"\"\n",
    "\n",
    "print(createMemberQuery)"
   ]
  },
  {
   "cell_type": "code",
   "execution_count": 84,
   "metadata": {},
   "outputs": [
    {
     "data": {
      "text/plain": [
       "[{'result': {'events': {},\n",
       "   'fields': {'employeeId': 'DEFINE FIELD employeeId ON member TYPE int ASSERT employeeId > 10000 AND employeeId < 99999 PERMISSIONS FULL',\n",
       "    'name': 'DEFINE FIELD name ON member TYPE string PERMISSIONS FULL'},\n",
       "   'indexes': {'employeeIdIndex': 'DEFINE INDEX employeeIdIndex ON member FIELDS employeeId UNIQUE'},\n",
       "   'lives': {},\n",
       "   'tables': {}},\n",
       "  'status': 'OK',\n",
       "  'time': '2.672508ms'}]"
      ]
     },
     "execution_count": 84,
     "metadata": {},
     "output_type": "execute_result"
    }
   ],
   "source": [
    "# If the command to create the member table looks good, go ahead and create it.\n",
    "await db.query(createMemberQuery)\n",
    "# Verify the table was created\n",
    "await db.query(\"INFO FOR TABLE member;\")"
   ]
  },
  {
   "cell_type": "markdown",
   "metadata": {},
   "source": [
    "### employeeId\n",
    "\n",
    "Let's randomly assign each employee an ID number. Recall that the schema definition above enforces that `employeeId` is\n",
    "\n",
    "- **UNIQUE** amongst all `employeeIds`\n",
    "- A string made up of 5 digits\n",
    "- [Indexed](https://docs.surrealdb.com/docs/surrealql/statements/define/indexes) with `employeeIdIndex`.\n",
    "\n",
    "The record creation here will fail if any of those criteria (as well as the other definitions) are not met."
   ]
  },
  {
   "cell_type": "code",
   "execution_count": 85,
   "metadata": {},
   "outputs": [
    {
     "name": "stdout",
     "output_type": "stream",
     "text": [
      "Lacey Howard 63379\n",
      "Amy Jones 17072\n",
      "Rylan Mack 18337\n",
      "Blake Booth 73822\n",
      "Brayden Harding 47392\n",
      "Bryan Murray 99053\n",
      "Zoe White 37374\n",
      "Valeria Crane 66919\n",
      "Johanna Duke 47631\n",
      "Jon Fischer 75658\n",
      "Noah Poole 63413\n",
      "Max Miller 74495\n",
      "Georgia Rogers 97447\n",
      "Milania Hodge 73234\n",
      "Alisa Stark 31729\n",
      "Ashton Owen 46156\n",
      "Dominic Wood 26581\n",
      "Niamh Walsh 40186\n",
      "Ella Powers 17594\n",
      "Regan Rhodes 26681\n",
      "Talon Miller 55760\n",
      "Ivan Reese 12605\n",
      "Seamus Noble 61175\n",
      "Ella Green 13965\n",
      "Scott Phillips 96638\n",
      "Logan Mason 36223\n",
      "Xavier Mcdowell 95838\n",
      "Daisy Pearce 17293\n",
      "Deon Griffith 11287\n",
      "Bruno Johns 39262\n",
      "Conner Mcintyre 37401\n",
      "Benjamin Roberts 66313\n",
      "Freya Price 24064\n",
      "Matthew Reid 78305\n",
      "Angelica Peterson 88056\n",
      "David Kelly 19007\n",
      "Archie Dawson 55723\n",
      "Rowan Cain 45455\n",
      "Chelsea Jimenez 43941\n",
      "Zachary Turner 93064\n",
      "Aryanna Carney 47590\n",
      "Libby Parker 73688\n",
      "Ewan Pearson 28614\n",
      "Rachel Harper 25771\n",
      "Jack Walsh 60326\n",
      "Patrick Adams 98891\n",
      "Allan Logan 90861\n",
      "Layne Terrell 24427\n",
      "Stephen Scott 76053\n",
      "Aydin Pitts 68514\n",
      "Andrew Grant 58424\n",
      "Michael Kaur 74685\n",
      "Dylan Baker 73316\n",
      "Dylan Bailey 96552\n",
      "Jayden Rees 52753\n",
      "Daniel Hill 42614\n",
      "Callen Bentley 23789\n",
      "Isabelle Gibson 84628\n",
      "Georgia King 59692\n",
      "Kyle Shaw 95732\n",
      "Finley Gray 53702\n",
      "Joseph Burke 97032\n",
      "Finlay Gardner 92442\n",
      "Logan Ellis 93895\n",
      "Jessica Black 57601\n",
      "Brantley Whitfield 82521\n",
      "Braiden Santos 23113\n",
      "Briley Mcknight 88751\n",
      "Jaxson Giles 90087\n",
      "Heidi Wallace 76550\n",
      "Zachary Doyle 31666\n",
      "Lauren Baker 93665\n",
      "George Jones 78812\n",
      "Aubri Hartman 58666\n",
      "Ivanna Boyer 69269\n",
      "Added records: 75\n",
      "Errors adding: 0\n",
      "Failed records:\n",
      " []\n"
     ]
    }
   ],
   "source": [
    "from random import randint\n",
    "\n",
    "# Roster of entries\n",
    "records_added = 0\n",
    "failed_records: list[dict[str, str]] = []\n",
    "\n",
    "# Iterate through the unique employee IDs in data and get the name\n",
    "for employee_id in unique_employeeId:\n",
    "    # Get the name for the employee ID\n",
    "    name = data.loc[data['employeeId'] == employee_id, 'name'].iloc[0]\n",
    "    print(name, employee_id)\n",
    "    # Add the person to the member table\n",
    "    try:\n",
    "        result = await db.create(member_tb, {\n",
    "        'name': name,\n",
    "        'employeeId': int(employee_id),\n",
    "        })\n",
    "        # If result contains 'status': 'ERR' then throw an exception\n",
    "        if result[0][\"status\"] == \"ERR\":\n",
    "            raise Exception(result)\n",
    "        records_added = records_added + 1\n",
    "    except Exception as e:\n",
    "        failed_records.append({name, e})\n",
    "        break\n",
    "\n",
    "print(\"Added records:\", records_added)\n",
    "print(\"Errors adding:\", len(failed_records))\n",
    "print(\"Failed records:\\n\", failed_records)"
   ]
  },
  {
   "cell_type": "code",
   "execution_count": 86,
   "metadata": {},
   "outputs": [
    {
     "data": {
      "text/plain": [
       "[{'result': [{'employeeId': 25771,\n",
       "    'id': 'member:03048b1kicsk3p6hkfrs',\n",
       "    'name': 'Rachel Harper'},\n",
       "   {'employeeId': 53702,\n",
       "    'id': 'member:04gjfhr661zwmnv3808v',\n",
       "    'name': 'Finley Gray'},\n",
       "   {'employeeId': 96638,\n",
       "    'id': 'member:06zzan3g7g0dv2c8mvkf',\n",
       "    'name': 'Scott Phillips'},\n",
       "   {'employeeId': 75658,\n",
       "    'id': 'member:0f83v9ysdzae76dpfshd',\n",
       "    'name': 'Jon Fischer'},\n",
       "   {'employeeId': 95732,\n",
       "    'id': 'member:17bl9bm1z1yqz55n97sk',\n",
       "    'name': 'Kyle Shaw'}],\n",
       "  'status': 'OK',\n",
       "  'time': '78.12µs'}]"
      ]
     },
     "execution_count": 86,
     "metadata": {},
     "output_type": "execute_result"
    }
   ],
   "source": [
    "# View some of the results\n",
    "await db.query(f\"SELECT * FROM {member_tb} LIMIT 5;\")"
   ]
  },
  {
   "cell_type": "markdown",
   "metadata": {},
   "source": [
    "## Add performance feedback\n",
    "\n",
    "Now that we have our employees loaded in to the database, let's add the performance feedback!\n",
    "\n",
    "### Create feedback table\n",
    "\n",
    "This table will be a schemafull **edge** table: **gotFeedback**. I advocate for schemafull here because I'm imagining a standard feedback form with fields that must be filled in.\n",
    "\n",
    "Additionally, there are some advantages for queries if you standardize fields. We will see this in action below."
   ]
  },
  {
   "cell_type": "code",
   "execution_count": 87,
   "metadata": {},
   "outputs": [
    {
     "name": "stdout",
     "output_type": "stream",
     "text": [
      "\n",
      "DEFINE TABLE gotFeedback SCHEMAFULL;\n",
      "DEFINE FIELD date on TABLE gotFeedback TYPE datetime;\n",
      "DEFINE FIELD body ON TABLE gotFeedback TYPE string;\n",
      "DEFINE FIELD rating ON TABLE gotFeedback TYPE number;\n",
      "DEFINE FIELD team ON TABLE gotFeedback TYPE record<team>;\n",
      "\n"
     ]
    }
   ],
   "source": [
    "# Create a schemafull table for feedback\n",
    "feedback_tb = \"gotFeedback\"\n",
    "createFeedbackQuery = f\"\"\"\n",
    "DEFINE TABLE {feedback_tb} SCHEMAFULL;\n",
    "DEFINE FIELD date on TABLE {feedback_tb} TYPE datetime;\n",
    "DEFINE FIELD body ON TABLE {feedback_tb} TYPE string;\n",
    "DEFINE FIELD rating ON TABLE {feedback_tb} TYPE number;\n",
    "DEFINE FIELD team ON TABLE {feedback_tb} TYPE record<team>;\n",
    "\"\"\"\n",
    "\n",
    "print(createFeedbackQuery)"
   ]
  },
  {
   "cell_type": "code",
   "execution_count": 88,
   "metadata": {},
   "outputs": [
    {
     "name": "stdout",
     "output_type": "stream",
     "text": [
      "[{'result': {'events': {}, 'fields': {'body': 'DEFINE FIELD body ON gotFeedback TYPE string PERMISSIONS FULL', 'date': 'DEFINE FIELD date ON gotFeedback TYPE datetime PERMISSIONS FULL', 'rating': 'DEFINE FIELD rating ON gotFeedback TYPE number PERMISSIONS FULL', 'team': 'DEFINE FIELD team ON gotFeedback TYPE record<team> PERMISSIONS FULL'}, 'indexes': {}, 'lives': {}, 'tables': {}}, 'status': 'OK', 'time': '129.248µs'}]\n"
     ]
    }
   ],
   "source": [
    "# If the command to create the table looks good, go ahead and create it.\n",
    "await db.query(createFeedbackQuery)\n",
    "# Verify the table was created\n",
    "print(await db.query(f\"INFO FOR TABLE {feedback_tb};\"))"
   ]
  },
  {
   "cell_type": "markdown",
   "metadata": {},
   "source": [
    "#### Define team table\n",
    "\n",
    "We also happen to need a team table"
   ]
  },
  {
   "cell_type": "code",
   "execution_count": 89,
   "metadata": {},
   "outputs": [],
   "source": [
    "# Define a schemaless team table\n",
    "await db.query(\"DEFINE TABLE team SCHEMALESS;\")\n",
    "\n",
    "# Iterate over the teams and add them to the team table\n",
    "for team in data['team'].unique():\n",
    "    try:\n",
    "        await db.create(\"team:\" + team, {\n",
    "            'name': team,\n",
    "        })\n",
    "    except Exception as e:\n",
    "        print(e)\n",
    "        break"
   ]
  },
  {
   "cell_type": "markdown",
   "metadata": {},
   "source": [
    "### Add Feedback\n",
    "\n",
    "To add the feedback to our database we'll make a few assumptions. Specifically, we'll randomly select and assign a manager and date."
   ]
  },
  {
   "cell_type": "code",
   "execution_count": 90,
   "metadata": {},
   "outputs": [
    {
     "name": "stdout",
     "output_type": "stream",
     "text": [
      "['Zachary Doyle' 'Lauren Baker' 'George Jones' 'Aubri Hartman'\n",
      " 'Ivanna Boyer']\n"
     ]
    }
   ],
   "source": [
    "# Assume managers are the last 5 names in the list\n",
    "managers = unique_names[-5:]\n",
    "print(managers)"
   ]
  },
  {
   "cell_type": "code",
   "execution_count": 95,
   "metadata": {},
   "outputs": [
    {
     "name": "stdout",
     "output_type": "stream",
     "text": [
      "Added records: 225\n",
      "Errors adding: 0\n",
      "Failed records:\n",
      " []\n"
     ]
    }
   ],
   "source": [
    "from random import choice\n",
    "\n",
    "# Go through each feedback and add it to the database with a randomly selected manager\n",
    "feedback_df = data[['employeeId','feedback', 'team', 'year', 'nine_box']]\n",
    "# Roster of entries\n",
    "records_added = 0\n",
    "failed_records: list[dict[str, str]] = []\n",
    "\n",
    "# Add feedback\n",
    "for _, row in feedback_df.iterrows():\n",
    "    # Randomly generate datetime for when feedback happened since dataset only has year\n",
    "    feedbackDate = str(row.year) + \"-\" + str(randint(10,12)) + \"-\" + str(randint(10,28))\n",
    "    feedbackDate = feedbackDate + \"T00:00:00Z\"\n",
    "    try:\n",
    "        # Randomly select rater and get their member id\n",
    "        rater = choice(managers)\n",
    "        raterId = await db.query(\"SELECT id FROM member WHERE name = $rater;\", {'rater':rater})\n",
    "        raterId = raterId[0][\"result\"][0][\"id\"]\n",
    "        # Get id of member\n",
    "        memberId = await db.query(f\"\"\"SELECT id FROM member WHERE employeeId = {row.employeeId};\"\"\")\n",
    "        memberId = memberId[0][\"result\"][0][\"id\"]\n",
    "        query = f\"\"\"RELATE {memberId}->gotFeedback->{raterId} CONTENT {{\n",
    "                    'date': \"{feedbackDate}\",\n",
    "                    'rating': {row.nine_box},\n",
    "                    'team': team:{row.team},\n",
    "                    'body': \"{row.feedback.replace('\"', \"'\")}\",   \n",
    "                  }};\n",
    "                  \"\"\"\n",
    "        result = await db.query(query)\n",
    "        # If result contains 'status': 'ERR' then throw an exception\n",
    "        if result[0][\"status\"] == \"ERR\":\n",
    "            raise Exception(result)\n",
    "        \n",
    "        records_added = records_added +1\n",
    "    except Exception as e:\n",
    "        failed_records.append({name, e})\n",
    "\n",
    "print(\"Added records:\", records_added)\n",
    "print(\"Errors adding:\", len(failed_records))\n",
    "print(\"Failed records:\\n\", failed_records)\n",
    "\n",
    "    "
   ]
  },
  {
   "cell_type": "markdown",
   "metadata": {},
   "source": [
    "## Query Feedback Records\n",
    "\n",
    "Get all feedback a person has ever gotten\n",
    "\n",
    "- `SELECT ->gotFeedback.out FROM member:v8hze8yz5emd3occkuoq;` will iterate the member object: *fastest*\n",
    "- `SELECT ->gotFeedback.out FROM member WHERE employeeId = 99053;` will iterate **employeeIdIndex**: fast\n",
    "\n",
    "Get all feedback a person has ever given\n",
    "\n",
    "- `SELECT <-gotFeedback.in FROM member:k24bvwin6pr3wlkrs4lm;` will iterate the member object: *fastest*\n",
    "- `SELECT <-gotFeedback.in FROM member WHERE name = \"Zachary Doyle\";` will iterate the **member** table: painfully slow"
   ]
  },
  {
   "cell_type": "markdown",
   "metadata": {},
   "source": [
    "---\n",
    "\n",
    "### Query Feedback Records\n",
    "\n",
    "In this example we'll compare a traditional table query with a graph query. The objective is to get the text and rater for each and every feedback an employee has ever received.\n",
    "\n",
    "Remember that our database currently has:\n",
    "- A `member` table that holds basic information about employees.\n",
    "- A `feedback` table that holds a record for every feedback.\n",
    "- A `gotFeedback` [edge table](https://docs.surrealdb.com/docs/surrealql/statements/relate) that points from an employee to their feedback.\n",
    "\n",
    "Furthermore, our `member` table has an INDEX on the `employeeId` column."
   ]
  },
  {
   "cell_type": "markdown",
   "metadata": {},
   "source": [
    "We will use **Valeria Crane** as our example employee. First, let's get her employee ID.\n",
    "This would be known in a production environment - probably even printed on the back of a badge - so\n",
    "it makes sense to somewhat artificially get it here."
   ]
  },
  {
   "cell_type": "code",
   "execution_count": 186,
   "metadata": {},
   "outputs": [
    {
     "name": "stdout",
     "output_type": "stream",
     "text": [
      "Crane's employeeId: 65810\n"
     ]
    }
   ],
   "source": [
    "# Get information about employee named Valeria Crane\n",
    "crane = await db.query(\"SELECT * FROM member WHERE name = 'Valeria Crane'\")\n",
    "crane_employeeId = crane[0]['result'][0]['employeeId']\n",
    "print(\"Crane's employeeId:\", crane_employeeId)"
   ]
  },
  {
   "cell_type": "markdown",
   "metadata": {},
   "source": [
    "Run the table query first. This matches the approach taken by a traditional relational database.\n",
    "Notice the `time` output at the bottom (about 3 milliseconds on my computer)."
   ]
  },
  {
   "cell_type": "code",
   "execution_count": 187,
   "metadata": {},
   "outputs": [
    {
     "data": {
      "text/plain": [
       "[{'result': [{'body': 'Valeria Crane is a hazard in our team. She has shown no signs of reliability. She is difficult to work with and does not seem motivated. Valeria needs a lot of guidance to complete tasks.',\n",
       "    'rater': 'Heidi Wallace'},\n",
       "   {'body': 'To simply but, Valeria is currently ranked last in the customer service leaderboard, having missed some basic but important sales target and slacking off at work. She is constantly on her phone to the point where we had to bar the use of phones within the office, causing inconvenience to genuine team members. I am afraid, unless she improves, she may be counting her last few weeks in this company.',\n",
       "    'rater': 'Jaxson Giles'},\n",
       "   {'body': 'Valeria is considered a risk. She has not been performing up to required standards. We have tried working with her to improve and there has not been any improvement. More testing will be required, but I would not recommend for personal advancement until noticeable and consistent improvement from management.',\n",
       "    'rater': 'George Jones'},\n",
       "   {'body': 'Valeria Crane has shown little in her work to amaze. So far it has been of a level below standard. We have not seen a consistent member of the team. Undertaking tasks has been a poor turn out so far from Valeria.',\n",
       "    'rater': 'Heidi Wallace'}],\n",
       "  'status': 'OK',\n",
       "  'time': '2.228315ms'}]"
      ]
     },
     "execution_count": 187,
     "metadata": {},
     "output_type": "execute_result"
    }
   ],
   "source": [
    "# Give me the rater name and the body of the feedback for every feedback the employee has gotten\n",
    "crane_feedback_table = f\"\"\"SELECT rater.name AS rater, body FROM feedback WHERE ratee.employeeId = '{crane_employeeId}'\"\"\"\n",
    "\n",
    "await db.query(crane_feedback_table)"
   ]
  },
  {
   "cell_type": "markdown",
   "metadata": {},
   "source": [
    "Now get the same information with a graph query. The output format will look slightly different, but it's still JSON.\n",
    "Check out the `time` though! On my computer it's about 500 microseconds, or **6x as fast!**"
   ]
  },
  {
   "cell_type": "code",
   "execution_count": 188,
   "metadata": {},
   "outputs": [
    {
     "data": {
      "text/plain": [
       "[{'result': [{'body': ['Valeria Crane is a hazard in our team. She has shown no signs of reliability. She is difficult to work with and does not seem motivated. Valeria needs a lot of guidance to complete tasks.',\n",
       "     'Valeria Crane has shown little in her work to amaze. So far it has been of a level below standard. We have not seen a consistent member of the team. Undertaking tasks has been a poor turn out so far from Valeria.',\n",
       "     'To simply but, Valeria is currently ranked last in the customer service leaderboard, having missed some basic but important sales target and slacking off at work. She is constantly on her phone to the point where we had to bar the use of phones within the office, causing inconvenience to genuine team members. I am afraid, unless she improves, she may be counting her last few weeks in this company.',\n",
       "     'Valeria is considered a risk. She has not been performing up to required standards. We have tried working with her to improve and there has not been any improvement. More testing will be required, but I would not recommend for personal advancement until noticeable and consistent improvement from management.'],\n",
       "    'rater': ['Heidi Wallace',\n",
       "     'Heidi Wallace',\n",
       "     'Jaxson Giles',\n",
       "     'George Jones']}],\n",
       "  'status': 'OK',\n",
       "  'time': '457.039µs'}]"
      ]
     },
     "execution_count": 188,
     "metadata": {},
     "output_type": "execute_result"
    }
   ],
   "source": [
    "# Get all of Crane's feedback using a graph query\n",
    "crane_feedback_graph = f\"\"\"SELECT ->gotFeedback.out.rater.name AS rater, ->gotFeedback.out.body AS body\n",
    "                            FROM (SELECT id FROM member WHERE employeeId = '{crane_employeeId}')\"\"\"\n",
    "await db.query(crane_feedback_graph)\n"
   ]
  },
  {
   "cell_type": "markdown",
   "metadata": {},
   "source": [
    "### Explain the difference\n",
    "\n",
    "So what's going on here? None of these tables are huge (member=75 rows, feedback=225 rows) so I was surprised to see these dramatic of results.\n",
    "\n",
    "Well, let's use the [EXPLAIN](https://docs.surrealdb.com/docs/surrealql/statements/select/#the-explain-clause) clause."
   ]
  },
  {
   "cell_type": "markdown",
   "metadata": {},
   "source": [
    "#### Table Query\n",
    "\n",
    "You'll see the the table query requires the database to **Iterate Table** over the *entire* **feedback** table because **NO INDEX FOUND**.\n",
    "\n",
    "Now, we *could* add another column into the feedback table that includes `employeeId` and then make that an index. However, this means that INSERT would be slower because you have to update the index.\n",
    "\n",
    "Additionally, as we will see, you don't actually need it; you can use a graph query instead!"
   ]
  },
  {
   "cell_type": "code",
   "execution_count": 189,
   "metadata": {},
   "outputs": [
    {
     "name": "stdout",
     "output_type": "stream",
     "text": [
      "SELECT rater.name AS rater, body FROM feedback WHERE ratee.employeeId = '65810'\n",
      "Explanation for table lookup by name:\n",
      "[\n",
      "    {\n",
      "        \"result\": [\n",
      "            {\n",
      "                \"detail\": {\n",
      "                    \"table\": \"feedback\"\n",
      "                },\n",
      "                \"operation\": \"Iterate Table\"\n",
      "            },\n",
      "            {\n",
      "                \"detail\": {\n",
      "                    \"reason\": \"NO INDEX FOUND\"\n",
      "                },\n",
      "                \"operation\": \"Fallback\"\n",
      "            }\n",
      "        ],\n",
      "        \"status\": \"OK\",\n",
      "        \"time\": \"41.105\\u00b5s\"\n",
      "    }\n",
      "]\n"
     ]
    }
   ],
   "source": [
    "from json import dumps # formats printing of json\n",
    "\n",
    "print((crane_feedback_table))\n",
    "# Explain how the query was preformed\n",
    "print(\"Explanation for table lookup by name:\")\n",
    "print(dumps(await db.query(crane_feedback_table + \" EXPLAIN\"), indent=4))"
   ]
  },
  {
   "cell_type": "markdown",
   "metadata": {},
   "source": [
    "#### Graph Query\n",
    "\n",
    "First, notice that the graph query actually requires two queries.\n",
    "\n",
    "1. Get the `member` object that has the matching `employeeId` (this is the rightmost query, in parenthesis).\n",
    "2. Get the information from the **feedback** table.\n",
    "\n",
    "In a production environment the first query is unlikely to be necessary because you probably already have the member ID from authentication or some other request. But leaving it here is educational.\n",
    "\n",
    "The first EXPLAIN states that the database uses **Iterate Index** on the **employeeIdIndex** from the **member** table to quickly get the `member` object. This is a good-old-fashioned relational query with an index. It's wicked fast and showcases exactly why we have indexes in the first place.\n",
    "\n",
    "The second query is the graph query (notice the `->` symbols). That operation is **Iterate Value** on the `member` object.\n",
    "\n",
    "So, what does this mean?\n",
    "\n",
    "The query works by tracing edges held in the **gotFeedback** table. By tracing the edges to the appropriate records in the **feedback** table, we neither had to iterate over the table nor build an index to make that iteration faster.\n",
    "\n",
    "The consequence is that unless an employee has a huge number of feedback entries, it will be much faster to just use our edge table. Even better, we won't experience overhead rebuilding an index on an INSERT to **feedback**."
   ]
  },
  {
   "cell_type": "code",
   "execution_count": 190,
   "metadata": {},
   "outputs": [
    {
     "name": "stdout",
     "output_type": "stream",
     "text": [
      "SELECT ->gotFeedback.out.rater.name AS rater, ->gotFeedback.out.body AS body\n",
      "                            FROM (SELECT id FROM member WHERE employeeId = '65810')\n",
      "Explanation for graph lookup:\n",
      "[\n",
      "    {\n",
      "        \"result\": [\n",
      "            {\n",
      "                \"detail\": {\n",
      "                    \"value\": {\n",
      "                        \"detail\": {\n",
      "                            \"plan\": {\n",
      "                                \"index\": \"employeeIdIndex\",\n",
      "                                \"operator\": \"=\",\n",
      "                                \"value\": \"65810\"\n",
      "                            },\n",
      "                            \"table\": \"member\"\n",
      "                        },\n",
      "                        \"operation\": \"Iterate Index\"\n",
      "                    }\n",
      "                },\n",
      "                \"operation\": \"Iterate Value\"\n",
      "            }\n",
      "        ],\n",
      "        \"status\": \"OK\",\n",
      "        \"time\": \"57.603\\u00b5s\"\n",
      "    }\n",
      "]\n"
     ]
    }
   ],
   "source": [
    "print(crane_feedback_graph)\n",
    "\n",
    "print(\"Explanation for graph lookup:\")\n",
    "# Need two explain statements because there are actually two queries happening\n",
    "print(dumps(await db.query(crane_feedback_graph.replace(')', ' EXPLAIN) EXPLAIN')), indent=4))"
   ]
  }
 ],
 "metadata": {
  "kernelspec": {
   "display_name": ".venv",
   "language": "python",
   "name": "python3"
  },
  "language_info": {
   "codemirror_mode": {
    "name": "ipython",
    "version": 3
   },
   "file_extension": ".py",
   "mimetype": "text/x-python",
   "name": "python",
   "nbconvert_exporter": "python",
   "pygments_lexer": "ipython3",
   "version": "3.10.12"
  }
 },
 "nbformat": 4,
 "nbformat_minor": 2
}
