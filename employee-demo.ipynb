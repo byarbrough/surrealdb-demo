{
 "cells": [
  {
   "cell_type": "markdown",
   "metadata": {},
   "source": [
    "# Employee Review Demo\n",
    "\n",
    "A demo of using [SurrealDB](https://surrealdb.com/) to query Kaggle's [Employee Review](https://www.kaggle.com/datasets/fiodarryzhykau/employee-review) dataset."
   ]
  },
  {
   "cell_type": "code",
   "execution_count": 175,
   "metadata": {},
   "outputs": [
    {
     "name": "stdout",
     "output_type": "stream",
     "text": [
      "Note: you may need to restart the kernel to use updated packages.\n"
     ]
    }
   ],
   "source": [
    "%pip -q install surrealdb pandas"
   ]
  },
  {
   "cell_type": "markdown",
   "metadata": {},
   "source": [
    "## Get started\n",
    "\n",
    "### Run database in container\n",
    "\n",
    "First, run SurrealDB as a container. I use [podman](https://podman.io/) because I like it better, but docker will work too.\n",
    "\n",
    "The volume mount is optional, in case you want to export your database.\n",
    "\n",
    "```{danger}\n",
    "Passing credentials like this is insecure and is for testing and demo only!\n",
    "```\n",
    "\n",
    "```bash\n",
    "podman run --rm -it -p 8000:8000 -v `pwd`/mydata:/mydata docker.io/surrealdb/surrealdb:latest start --auth --user root --pass testing \n",
    "```\n",
    "\n",
    "You should see\n",
    "\n",
    "> INFO surrealdb::net: Started web server on 0.0.0.0:8000"
   ]
  },
  {
   "cell_type": "markdown",
   "metadata": {},
   "source": [
    "### Login to database\n",
    "\n",
    "We will use the [Python SDK for SurrealDB](https://docs.surrealdb.com/docs/integration/sdks/python/).\n",
    "\n",
    "Note that I believe Python is an awful language and you should avoid it in most production cases. But for this demo notebook, eh, I suppose I can hold my nose and do it.\n",
    "\n",
    "SurrealDB has a plethora of SDKs to chose from, though they aren't as developed as one might hope."
   ]
  },
  {
   "cell_type": "code",
   "execution_count": 176,
   "metadata": {},
   "outputs": [
    {
     "name": "stdout",
     "output_type": "stream",
     "text": [
      "ConnectionState.CONNECTED\n"
     ]
    }
   ],
   "source": [
    "from surrealdb import Surreal\n",
    "\n",
    "db = Surreal(\"http://localhost:8000\")\n",
    "await db.connect()\n",
    "\n",
    "# NOTE: This is an insecure way of handling credentials and should not be used in production.\n",
    "await db.signin({\"user\": \"root\", \"pass\": \"testing\"})\n",
    "await db.use(\"test\", \"test\")\n",
    "\n",
    "print(db.client_state)"
   ]
  },
  {
   "cell_type": "markdown",
   "metadata": {},
   "source": [
    "## Preview data\n",
    "\n",
    "Again, this dataset is from Kaggle's [Employee Review](https://www.kaggle.com/datasets/fiodarryzhykau/employee-review).\n",
    "\n",
    "Let's check it out. We'll also grab a list of unique names because we will need those."
   ]
  },
  {
   "cell_type": "code",
   "execution_count": 177,
   "metadata": {},
   "outputs": [
    {
     "name": "stdout",
     "output_type": "stream",
     "text": [
      "<class 'pandas.core.frame.DataFrame'>\n",
      "RangeIndex: 225 entries, 0 to 224\n",
      "Data columns (total 6 columns):\n",
      " #   Column             Non-Null Count  Dtype \n",
      "---  ------             --------------  ----- \n",
      " 0   id                 225 non-null    int64 \n",
      " 1   person_name        225 non-null    object\n",
      " 2   nine_box_category  225 non-null    object\n",
      " 3   feedback           225 non-null    object\n",
      " 4   updated            225 non-null    bool  \n",
      " 5   reviewed           225 non-null    bool  \n",
      "dtypes: bool(2), int64(1), object(3)\n",
      "memory usage: 7.6+ KB\n",
      "None\n",
      "Found 75 unique names\n"
     ]
    }
   ],
   "source": [
    "# Preview the CSV\n",
    "import pandas as pd\n",
    "\n",
    "# Load the CSV file\n",
    "file_path = 'employee_review_mturk_dataset_test_v6_kaggle.csv'\n",
    "data = pd.read_csv(file_path)\n",
    "\n",
    "# Display the info about the dataframe\n",
    "print(data.info())\n",
    "\n",
    "# For each unique name in the CSV\n",
    "unique_names = data['person_name'].unique()\n",
    "print(\"Found\", len(unique_names), \"unique names\")\n"
   ]
  },
  {
   "cell_type": "markdown",
   "metadata": {},
   "source": [
    "## Create member table\n",
    "\n",
    "The first thing we will do with our database is create table to put the members of our company in. Let's call it **member**.\n",
    "\n",
    "We will use a [schemafull table](https://docs.surrealdb.com/docs/surrealql/statements/define/table#schemafull-tables)\n",
    "because then the database will strictly enforce the definitions we add to the table for each record.\n",
    "\n",
    "While schemaless tables offer advantages in flexibility, for something as critical as the cornerstone record of who an employee is, schemafull is *absolutely* the way to go.\n",
    "\n",
    "The queries can get a tad unwieldy, so I like to preview the string before sending to the database."
   ]
  },
  {
   "cell_type": "code",
   "execution_count": 178,
   "metadata": {},
   "outputs": [
    {
     "name": "stdout",
     "output_type": "stream",
     "text": [
      "\n",
      "# Create primary table for holding member info\n",
      "DEFINE TABLE member SCHEMAFULL;\n",
      "\n",
      "# Name\n",
      "DEFINE FIELD name ON TABLE member TYPE string;\n",
      "\n",
      "# Employee ID as unique index\n",
      "DEFINE FIELD employeeId ON TABLE member TYPE string\n",
      "    ASSERT string::is::numeric(employeeId) && string::len(employeeId) == 5;\n",
      "DEFINE INDEX employeeIdIndex ON TABLE member COLUMNS employeeId UNIQUE;\n",
      "\n"
     ]
    }
   ],
   "source": [
    "member_tb = \"member\"\n",
    "createMemberQuery = f\"\"\"\n",
    "# Create primary table for holding member info\n",
    "DEFINE TABLE {member_tb} SCHEMAFULL;\n",
    "\n",
    "# Name\n",
    "DEFINE FIELD name ON TABLE {member_tb} TYPE string;\n",
    "\n",
    "# Employee ID as unique index\n",
    "DEFINE FIELD employeeId ON TABLE {member_tb} TYPE string\n",
    "    ASSERT string::is::numeric(employeeId) && string::len(employeeId) == 5;\n",
    "DEFINE INDEX employeeIdIndex ON TABLE {member_tb} COLUMNS employeeId UNIQUE;\n",
    "\"\"\"\n",
    "\n",
    "print(createMemberQuery)"
   ]
  },
  {
   "cell_type": "code",
   "execution_count": 179,
   "metadata": {},
   "outputs": [
    {
     "data": {
      "text/plain": [
       "[{'result': {'events': {},\n",
       "   'fields': {'employeeId': 'DEFINE FIELD employeeId ON member TYPE string ASSERT string::is::numeric(employeeId) AND string::len(employeeId) == 5 PERMISSIONS FULL',\n",
       "    'name': 'DEFINE FIELD name ON member TYPE string PERMISSIONS FULL'},\n",
       "   'indexes': {'employeeIdIndex': 'DEFINE INDEX employeeIdIndex ON member FIELDS employeeId UNIQUE'},\n",
       "   'lives': {},\n",
       "   'tables': {}},\n",
       "  'status': 'OK',\n",
       "  'time': '2.48673ms'}]"
      ]
     },
     "execution_count": 179,
     "metadata": {},
     "output_type": "execute_result"
    }
   ],
   "source": [
    "# If the command to create the member table looks good, go ahead and create it.\n",
    "await db.query(createMemberQuery)\n",
    "# Verify the table was created\n",
    "await db.query(\"INFO FOR TABLE member;\")"
   ]
  },
  {
   "cell_type": "markdown",
   "metadata": {},
   "source": [
    "### employeeId\n",
    "\n",
    "Let's randomly assign each employee an ID number. Recall that the schema definition above enforces that `employeeId` is\n",
    "\n",
    "- **UNIQUE** amongst all `employeeIds`\n",
    "- A string made up of 5 digits\n",
    "- [Indexed](https://docs.surrealdb.com/docs/surrealql/statements/define/indexes) with `employeeIdIndex`.\n",
    "\n",
    "The record creation here will fail if any of those criteria (as well as the other definitions) are not met."
   ]
  },
  {
   "cell_type": "code",
   "execution_count": 180,
   "metadata": {},
   "outputs": [
    {
     "name": "stdout",
     "output_type": "stream",
     "text": [
      "Adding members to table: member\n",
      "Added records: 75\n",
      "Errors adding: 0\n",
      "Failed records:\n",
      " []\n"
     ]
    }
   ],
   "source": [
    "from random import randint\n",
    "\n",
    "# Roster of entries\n",
    "records_added = 0\n",
    "failed_records: list[dict[str, str]] = []\n",
    "\n",
    "# Add the person to the member table\n",
    "print(\"Adding members to table:\", member_tb)\n",
    "for name in unique_names:\n",
    "    # Create a random employee id of 5 digits\n",
    "    employee_id = ''.join(str(randint(0, 9)) for _ in range(5))\n",
    "    try:\n",
    "        new_record = await db.create(member_tb, {\n",
    "        'name': name,\n",
    "        'employeeId': employee_id,\n",
    "        })\n",
    "        records_added = records_added + 1\n",
    "    except Exception as e:\n",
    "        failed_records.append({name, e})\n",
    "\n",
    "print(\"Added records:\", records_added)\n",
    "print(\"Errors adding:\", len(failed_records))\n",
    "print(\"Failed records:\\n\", failed_records)"
   ]
  },
  {
   "cell_type": "code",
   "execution_count": 181,
   "metadata": {},
   "outputs": [
    {
     "data": {
      "text/plain": [
       "[{'result': [{'employeeId': '57039',\n",
       "    'id': 'member:0ofhpdiywbksd94y6i5r',\n",
       "    'name': 'Jayden Rees'},\n",
       "   {'employeeId': '11808',\n",
       "    'id': 'member:123y4mxnx06abumur88d',\n",
       "    'name': 'Braiden Santos'},\n",
       "   {'employeeId': '31786',\n",
       "    'id': 'member:1cnbys0j93u40jpbw0ou',\n",
       "    'name': 'Daisy Pearce'},\n",
       "   {'employeeId': '18361',\n",
       "    'id': 'member:2q7ls7jps6hlf4pvhaqb',\n",
       "    'name': 'Heidi Wallace'},\n",
       "   {'employeeId': '36579',\n",
       "    'id': 'member:2unvbh258ug0c96eza12',\n",
       "    'name': 'Logan Ellis'}],\n",
       "  'status': 'OK',\n",
       "  'time': '65.176µs'}]"
      ]
     },
     "execution_count": 181,
     "metadata": {},
     "output_type": "execute_result"
    }
   ],
   "source": [
    "# View some of the results\n",
    "await db.query(f\"SELECT * FROM {member_tb} LIMIT 5;\")"
   ]
  },
  {
   "cell_type": "markdown",
   "metadata": {},
   "source": [
    "## Add performance feedback\n",
    "\n",
    "Now that we have our employees loaded in to the database, let's add the performance feedback!\n",
    "\n",
    "### Create feedback table\n",
    "\n",
    "We'll start out by making another schemafull table: **feedback**. I advocate for schemafull here because I'm imagining a standard feedback form with fields that must be filled in.\n",
    "\n",
    "Additionally, there are some advantages for queries if you standardize fields. We will see this in action below."
   ]
  },
  {
   "cell_type": "code",
   "execution_count": 182,
   "metadata": {},
   "outputs": [
    {
     "name": "stdout",
     "output_type": "stream",
     "text": [
      "\n",
      "DEFINE TABLE feedback SCHEMAFULL;\n",
      "DEFINE FIELD ratee ON TABLE feedback TYPE record<member>;\n",
      "DEFINE FIELD rater ON TABLE feedback TYPE record<member>;\n",
      "DEFINE FIELD date on TABLE feedback TYPE datetime;\n",
      "DEFINE FIELD body ON TABLE feedback TYPE string;\n",
      "# Create index for faster query\n",
      "DEFINE INDEX memberIndex ON TABLE feedback COLUMNS member;\n",
      "\n"
     ]
    }
   ],
   "source": [
    "# Create a schemafull table for feedback\n",
    "feedback_tb = \"feedback\"\n",
    "createFeedbackQuery = f\"\"\"\n",
    "DEFINE TABLE {feedback_tb} SCHEMAFULL;\n",
    "DEFINE FIELD ratee ON TABLE {feedback_tb} TYPE record<member>;\n",
    "DEFINE FIELD rater ON TABLE {feedback_tb} TYPE record<member>;\n",
    "DEFINE FIELD date on TABLE {feedback_tb} TYPE datetime;\n",
    "DEFINE FIELD body ON TABLE {feedback_tb} TYPE string;\n",
    "# Create index for faster query\n",
    "DEFINE INDEX memberIndex ON TABLE {feedback_tb} COLUMNS member;\n",
    "\"\"\"\n",
    "\n",
    "print(createFeedbackQuery)"
   ]
  },
  {
   "cell_type": "code",
   "execution_count": 183,
   "metadata": {},
   "outputs": [
    {
     "name": "stdout",
     "output_type": "stream",
     "text": [
      "[{'result': {'events': {}, 'fields': {'body': 'DEFINE FIELD body ON feedback TYPE string PERMISSIONS FULL', 'date': 'DEFINE FIELD date ON feedback TYPE datetime PERMISSIONS FULL', 'ratee': 'DEFINE FIELD ratee ON feedback TYPE record<member> PERMISSIONS FULL', 'rater': 'DEFINE FIELD rater ON feedback TYPE record<member> PERMISSIONS FULL'}, 'indexes': {'memberIndex': 'DEFINE INDEX memberIndex ON feedback FIELDS member'}, 'lives': {}, 'tables': {}}, 'status': 'OK', 'time': '128.745µs'}]\n"
     ]
    }
   ],
   "source": [
    "# If the command to create the table looks good, go ahead and create it.\n",
    "await db.query(createFeedbackQuery)\n",
    "# Verify the table was created\n",
    "print(await db.query(f\"INFO FOR TABLE {feedback_tb};\"))"
   ]
  },
  {
   "cell_type": "markdown",
   "metadata": {},
   "source": [
    "### Add Feedback\n",
    "\n",
    "To add the feedback to our database we'll make a few assumptions. Specifically, we'll randomly select and assign a manager and a recent date.\n",
    "\n",
    "Each addition will require both\n",
    "1. Creation of a record in the **feedback** table.\n",
    "2. Creation of an edge in the **gotFeedback** edge table.\n",
    "\n",
    "If either one fails, they both should fail. In order to do this, we'll make the addition as a [transaction](https://docs.surrealdb.com/docs/surrealql/transactions/) that we will then [commit](https://docs.surrealdb.com/docs/surrealql/statements/commit)."
   ]
  },
  {
   "cell_type": "code",
   "execution_count": 184,
   "metadata": {},
   "outputs": [
    {
     "name": "stdout",
     "output_type": "stream",
     "text": [
      "['Jaxson Giles' 'Heidi Wallace' 'Zachary Doyle' 'Lauren Baker'\n",
      " 'George Jones']\n"
     ]
    }
   ],
   "source": [
    "# Assume managers are the last 5 names in the list\n",
    "managers = unique_names[-5:]\n",
    "print(managers)"
   ]
  },
  {
   "cell_type": "code",
   "execution_count": 185,
   "metadata": {},
   "outputs": [
    {
     "name": "stdout",
     "output_type": "stream",
     "text": [
      "Added records: 225\n",
      "Errors adding: 0\n",
      "Failed records:\n",
      " []\n"
     ]
    }
   ],
   "source": [
    "from random import choice\n",
    "\n",
    "# Go through each feedback and add it to the database with a randomly selected manager\n",
    "feedback_df = data[['person_name','feedback']]\n",
    "# Roster of entries\n",
    "records_added = 0\n",
    "failed_records: list[dict[str, str]] = []\n",
    "\n",
    "# Add feedback\n",
    "for _, row in feedback_df.iterrows():\n",
    "    # Randomly generate datetime for when feedback happened\n",
    "    feedbackDate = str(randint(2019, 2023)) + \"-\" + str(randint(10,12)) + \"-\" + str(randint(10,28))\n",
    "    feedbackDate = feedbackDate + \"T00:00:00Z\"\n",
    "    try:\n",
    "        # Randomly select rater and get their member id\n",
    "        rater = choice(managers)\n",
    "        raterId = await db.query(\"SELECT id FROM member WHERE name = $rater;\", {'rater':rater})\n",
    "        raterId = raterId[0][\"result\"][0][\"id\"]\n",
    "        # Get id of member. Doing this with employeeId would be better, but dataset limits\n",
    "        memberId = await db.query(f\"\"\"SELECT id FROM member WHERE name = \"{row.person_name}\";\"\"\")\n",
    "        memberId = memberId[0][\"result\"][0][\"id\"]\n",
    "        query = f\"\"\"BEGIN TRANSACTION;\n",
    "                  -- Create feedback record\n",
    "                  LET $thisFeedbackId = (CREATE feedback CONTENT {{\n",
    "                    'ratee': {memberId},\n",
    "                    'rater': {raterId},\n",
    "                    'date': \"{feedbackDate}\",\n",
    "                    'body': \"{row.feedback.replace('\"', \"'\")}\",   \n",
    "                  }});\n",
    "                  -- Relate feedback record to member\n",
    "                  RELATE {memberId}->gotFeedback->$thisFeedbackId;\n",
    "                  -- Transactions both work or both fail\n",
    "                  COMMIT TRANSACTION;\n",
    "                  \"\"\"\n",
    "        await db.query(query)\n",
    "        records_added = records_added + 1\n",
    "    except Exception as e:\n",
    "        failed_records.append({name, e})\n",
    "\n",
    "print(\"Added records:\", records_added)\n",
    "print(\"Errors adding:\", len(failed_records))\n",
    "print(\"Failed records:\\n\", failed_records)\n",
    "\n",
    "    "
   ]
  },
  {
   "cell_type": "markdown",
   "metadata": {},
   "source": [
    "### Query Feedback Records\n",
    "\n",
    "In this example we'll compare a traditional table query with a graph query. The objective is to get the text and rater for each and every feedback an employee has ever received.\n",
    "\n",
    "Remember that our database currently has:\n",
    "- A `member` table that holds basic information about employees.\n",
    "- A `feedback` table that holds a record for every feedback.\n",
    "- A `gotFeedback` [edge table](https://docs.surrealdb.com/docs/surrealql/statements/relate) that points from an employee to their feedback.\n",
    "\n",
    "Furthermore, our `member` table has an INDEX on the `employeeId` column."
   ]
  },
  {
   "cell_type": "markdown",
   "metadata": {},
   "source": [
    "We will use **Valeria Crane** as our example employee. First, let's get her employee ID.\n",
    "This would be known in a production environment - probably even printed on the back of a badge - so\n",
    "it makes sense to somewhat artificially get it here."
   ]
  },
  {
   "cell_type": "code",
   "execution_count": 186,
   "metadata": {},
   "outputs": [
    {
     "name": "stdout",
     "output_type": "stream",
     "text": [
      "Crane's employeeId: 65810\n"
     ]
    }
   ],
   "source": [
    "# Get information about employee named Valeria Crane\n",
    "crane = await db.query(\"SELECT * FROM member WHERE name = 'Valeria Crane'\")\n",
    "crane_employeeId = crane[0]['result'][0]['employeeId']\n",
    "print(\"Crane's employeeId:\", crane_employeeId)"
   ]
  },
  {
   "cell_type": "markdown",
   "metadata": {},
   "source": [
    "Run the table query first. This matches the approach taken by a traditional relational database.\n",
    "Notice the `time` output at the bottom (about 3 milliseconds on my computer)."
   ]
  },
  {
   "cell_type": "code",
   "execution_count": 187,
   "metadata": {},
   "outputs": [
    {
     "data": {
      "text/plain": [
       "[{'result': [{'body': 'Valeria Crane is a hazard in our team. She has shown no signs of reliability. She is difficult to work with and does not seem motivated. Valeria needs a lot of guidance to complete tasks.',\n",
       "    'rater': 'Heidi Wallace'},\n",
       "   {'body': 'To simply but, Valeria is currently ranked last in the customer service leaderboard, having missed some basic but important sales target and slacking off at work. She is constantly on her phone to the point where we had to bar the use of phones within the office, causing inconvenience to genuine team members. I am afraid, unless she improves, she may be counting her last few weeks in this company.',\n",
       "    'rater': 'Jaxson Giles'},\n",
       "   {'body': 'Valeria is considered a risk. She has not been performing up to required standards. We have tried working with her to improve and there has not been any improvement. More testing will be required, but I would not recommend for personal advancement until noticeable and consistent improvement from management.',\n",
       "    'rater': 'George Jones'},\n",
       "   {'body': 'Valeria Crane has shown little in her work to amaze. So far it has been of a level below standard. We have not seen a consistent member of the team. Undertaking tasks has been a poor turn out so far from Valeria.',\n",
       "    'rater': 'Heidi Wallace'}],\n",
       "  'status': 'OK',\n",
       "  'time': '2.228315ms'}]"
      ]
     },
     "execution_count": 187,
     "metadata": {},
     "output_type": "execute_result"
    }
   ],
   "source": [
    "# Give me the rater name and the body of the feedback for every feedback the employee has gotten\n",
    "crane_feedback_table = f\"\"\"SELECT rater.name AS rater, body FROM feedback WHERE ratee.employeeId = '{crane_employeeId}'\"\"\"\n",
    "\n",
    "await db.query(crane_feedback_table)"
   ]
  },
  {
   "cell_type": "markdown",
   "metadata": {},
   "source": [
    "Now get the same information with a graph query. The output format will look slightly different, but it's still JSON.\n",
    "Check out the `time` though! On my computer it's about 500 microseconds, or **6x as fast!**"
   ]
  },
  {
   "cell_type": "code",
   "execution_count": 188,
   "metadata": {},
   "outputs": [
    {
     "data": {
      "text/plain": [
       "[{'result': [{'body': ['Valeria Crane is a hazard in our team. She has shown no signs of reliability. She is difficult to work with and does not seem motivated. Valeria needs a lot of guidance to complete tasks.',\n",
       "     'Valeria Crane has shown little in her work to amaze. So far it has been of a level below standard. We have not seen a consistent member of the team. Undertaking tasks has been a poor turn out so far from Valeria.',\n",
       "     'To simply but, Valeria is currently ranked last in the customer service leaderboard, having missed some basic but important sales target and slacking off at work. She is constantly on her phone to the point where we had to bar the use of phones within the office, causing inconvenience to genuine team members. I am afraid, unless she improves, she may be counting her last few weeks in this company.',\n",
       "     'Valeria is considered a risk. She has not been performing up to required standards. We have tried working with her to improve and there has not been any improvement. More testing will be required, but I would not recommend for personal advancement until noticeable and consistent improvement from management.'],\n",
       "    'rater': ['Heidi Wallace',\n",
       "     'Heidi Wallace',\n",
       "     'Jaxson Giles',\n",
       "     'George Jones']}],\n",
       "  'status': 'OK',\n",
       "  'time': '457.039µs'}]"
      ]
     },
     "execution_count": 188,
     "metadata": {},
     "output_type": "execute_result"
    }
   ],
   "source": [
    "# Get all of Crane's feedback using a graph query\n",
    "crane_feedback_graph = f\"\"\"SELECT ->gotFeedback.out.rater.name AS rater, ->gotFeedback.out.body AS body\n",
    "                            FROM (SELECT id FROM member WHERE employeeId = '{crane_employeeId}')\"\"\"\n",
    "await db.query(crane_feedback_graph)\n"
   ]
  },
  {
   "cell_type": "markdown",
   "metadata": {},
   "source": [
    "### Explain the difference\n",
    "\n",
    "So what's going on here? None of these tables are huge (member=75 rows, feedback=225 rows) so I was surprised to see these dramatic of results.\n",
    "\n",
    "Well, let's use the [EXPLAIN](https://docs.surrealdb.com/docs/surrealql/statements/select/#the-explain-clause) clause."
   ]
  },
  {
   "cell_type": "markdown",
   "metadata": {},
   "source": [
    "#### Table Query\n",
    "\n",
    "You'll see the the table query requires the database to **Iterate Table** over the *entire* **feedback** table because **NO INDEX FOUND**.\n",
    "\n",
    "Now, we *could* add another column into the feedback table that includes `employeeId` and then make that an index. However, this means that INSERT would be slower because you have to update the index.\n",
    "\n",
    "Additionally, as we will see, you don't actually need it; you can use a graph query instead!"
   ]
  },
  {
   "cell_type": "code",
   "execution_count": 189,
   "metadata": {},
   "outputs": [
    {
     "name": "stdout",
     "output_type": "stream",
     "text": [
      "SELECT rater.name AS rater, body FROM feedback WHERE ratee.employeeId = '65810'\n",
      "Explanation for table lookup by name:\n",
      "[\n",
      "    {\n",
      "        \"result\": [\n",
      "            {\n",
      "                \"detail\": {\n",
      "                    \"table\": \"feedback\"\n",
      "                },\n",
      "                \"operation\": \"Iterate Table\"\n",
      "            },\n",
      "            {\n",
      "                \"detail\": {\n",
      "                    \"reason\": \"NO INDEX FOUND\"\n",
      "                },\n",
      "                \"operation\": \"Fallback\"\n",
      "            }\n",
      "        ],\n",
      "        \"status\": \"OK\",\n",
      "        \"time\": \"41.105\\u00b5s\"\n",
      "    }\n",
      "]\n"
     ]
    }
   ],
   "source": [
    "from json import dumps # formats printing of json\n",
    "\n",
    "print((crane_feedback_table))\n",
    "# Explain how the query was preformed\n",
    "print(\"Explanation for table lookup by name:\")\n",
    "print(dumps(await db.query(crane_feedback_table + \" EXPLAIN\"), indent=4))"
   ]
  },
  {
   "cell_type": "markdown",
   "metadata": {},
   "source": [
    "#### Graph Query\n",
    "\n",
    "First, notice that the graph query actually requires two queries.\n",
    "\n",
    "1. Get the `member` object that has the matching `employeeId` (this is the rightmost query, in parenthesis).\n",
    "2. Get the information from the **feedback** table.\n",
    "\n",
    "In a production environment the first query is unlikely to be necessary because you probably already have the member ID from authentication or some other request. But leaving it here is educational.\n",
    "\n",
    "The first EXPLAIN states that the database uses **Iterate Index** on the **employeeIdIndex** from the **member** table to quickly get the `member` object. This is a good-old-fashioned relational query with an index. It's wicked fast and showcases exactly why we have indexes in the first place.\n",
    "\n",
    "The second query is the graph query (notice the `->` symbols). That operation is **Iterate Value** on the `member` object.\n",
    "\n",
    "So, what does this mean?\n",
    "\n",
    "The query works by tracing edges held in the **gotFeedback** table. By tracing the edges to the appropriate records in the **feedback** table, we neither had to iterate over the table nor build an index to make that iteration faster.\n",
    "\n",
    "The consequence is that unless an employee has a huge number of feedback entries, it will be much faster to just use our edge table. Even better, we won't experience overhead rebuilding an index on an INSERT to **feedback**."
   ]
  },
  {
   "cell_type": "code",
   "execution_count": 190,
   "metadata": {},
   "outputs": [
    {
     "name": "stdout",
     "output_type": "stream",
     "text": [
      "SELECT ->gotFeedback.out.rater.name AS rater, ->gotFeedback.out.body AS body\n",
      "                            FROM (SELECT id FROM member WHERE employeeId = '65810')\n",
      "Explanation for graph lookup:\n",
      "[\n",
      "    {\n",
      "        \"result\": [\n",
      "            {\n",
      "                \"detail\": {\n",
      "                    \"value\": {\n",
      "                        \"detail\": {\n",
      "                            \"plan\": {\n",
      "                                \"index\": \"employeeIdIndex\",\n",
      "                                \"operator\": \"=\",\n",
      "                                \"value\": \"65810\"\n",
      "                            },\n",
      "                            \"table\": \"member\"\n",
      "                        },\n",
      "                        \"operation\": \"Iterate Index\"\n",
      "                    }\n",
      "                },\n",
      "                \"operation\": \"Iterate Value\"\n",
      "            }\n",
      "        ],\n",
      "        \"status\": \"OK\",\n",
      "        \"time\": \"57.603\\u00b5s\"\n",
      "    }\n",
      "]\n"
     ]
    }
   ],
   "source": [
    "print(crane_feedback_graph)\n",
    "\n",
    "print(\"Explanation for graph lookup:\")\n",
    "# Need two explain statements because there are actually two queries happening\n",
    "print(dumps(await db.query(crane_feedback_graph.replace(')', ' EXPLAIN) EXPLAIN')), indent=4))"
   ]
  }
 ],
 "metadata": {
  "kernelspec": {
   "display_name": ".venv",
   "language": "python",
   "name": "python3"
  },
  "language_info": {
   "codemirror_mode": {
    "name": "ipython",
    "version": 3
   },
   "file_extension": ".py",
   "mimetype": "text/x-python",
   "name": "python",
   "nbconvert_exporter": "python",
   "pygments_lexer": "ipython3",
   "version": "3.10.12"
  }
 },
 "nbformat": 4,
 "nbformat_minor": 2
}
