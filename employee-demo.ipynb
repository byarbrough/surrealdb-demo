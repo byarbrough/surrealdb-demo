{
 "cells": [
  {
   "cell_type": "markdown",
   "metadata": {},
   "source": [
    "# Employee Review Demo\n",
    "\n",
    "A demo of using [SurrealDB](https://surrealdb.com/) to query Kaggle's [Employee Review](https://www.kaggle.com/datasets/fiodarryzhykau/employee-review) dataset."
   ]
  },
  {
   "cell_type": "code",
   "execution_count": 1,
   "metadata": {},
   "outputs": [
    {
     "name": "stdout",
     "output_type": "stream",
     "text": [
      "Note: you may need to restart the kernel to use updated packages.\n"
     ]
    }
   ],
   "source": [
    "%pip -q install surrealdb pandas"
   ]
  },
  {
   "cell_type": "markdown",
   "metadata": {},
   "source": [
    "## Setup the database\n",
    "\n",
    "Simply define a schemafull table for employees and add them."
   ]
  },
  {
   "cell_type": "code",
   "execution_count": 2,
   "metadata": {},
   "outputs": [
    {
     "name": "stdout",
     "output_type": "stream",
     "text": [
      "ConnectionState.CONNECTED\n"
     ]
    }
   ],
   "source": [
    "from surrealdb import Surreal\n",
    "\n",
    "db = Surreal(\"http://localhost:8000\")\n",
    "await db.connect()\n",
    "\n",
    "# TODO: remove insecure creds\n",
    "await db.signin({\"user\": \"root\", \"pass\": \"testing\"})\n",
    "await db.use(\"test\", \"test\")\n",
    "\n",
    "print(db.client_state)"
   ]
  },
  {
   "cell_type": "code",
   "execution_count": 3,
   "metadata": {},
   "outputs": [
    {
     "name": "stdout",
     "output_type": "stream",
     "text": [
      "\n",
      "# Create primary table for holding member info\n",
      "DEFINE TABLE member SCHEMAFULL;\n",
      "\n",
      "# Name\n",
      "DEFINE FIELD name ON TABLE member TYPE string;\n",
      "\n",
      "# Employee ID as unique index\n",
      "DEFINE FIELD employeeId ON TABLE member TYPE string\n",
      "    ASSERT string::is::numeric(employeeId) && string::len(employeeId) == 5;\n",
      "DEFINE INDEX employeeIdIndex ON TABLE member COLUMNS employeeId UNIQUE;\n",
      "\n"
     ]
    }
   ],
   "source": [
    "member_tb = \"member\"\n",
    "createMemberQuery = f\"\"\"\n",
    "# Create primary table for holding member info\n",
    "DEFINE TABLE {member_tb} SCHEMAFULL;\n",
    "\n",
    "# Name\n",
    "DEFINE FIELD name ON TABLE {member_tb} TYPE string;\n",
    "\n",
    "# Employee ID as unique index\n",
    "DEFINE FIELD employeeId ON TABLE {member_tb} TYPE string\n",
    "    ASSERT string::is::numeric(employeeId) && string::len(employeeId) == 5;\n",
    "DEFINE INDEX employeeIdIndex ON TABLE {member_tb} COLUMNS employeeId UNIQUE;\n",
    "\"\"\"\n",
    "\n",
    "print(createMemberQuery)"
   ]
  },
  {
   "cell_type": "code",
   "execution_count": 4,
   "metadata": {},
   "outputs": [
    {
     "data": {
      "text/plain": [
       "[{'result': {'events': {},\n",
       "   'fields': {'employeeId': 'DEFINE FIELD employeeId ON member TYPE string ASSERT string::is::numeric(employeeId) AND string::len(employeeId) == 5',\n",
       "    'name': 'DEFINE FIELD name ON member TYPE string'},\n",
       "   'indexes': {'employeeIdIndex': 'DEFINE INDEX employeeIdIndex ON member FIELDS employeeId UNIQUE'},\n",
       "   'lives': {},\n",
       "   'tables': {}},\n",
       "  'status': 'OK',\n",
       "  'time': '2.514229ms'}]"
      ]
     },
     "execution_count": 4,
     "metadata": {},
     "output_type": "execute_result"
    }
   ],
   "source": [
    "# If the command to create the member table looks good, go ahead and create it.\n",
    "await db.query(createMemberQuery)\n",
    "# Verify the table was created\n",
    "await db.query(\"INFO FOR TABLE member;\")"
   ]
  },
  {
   "cell_type": "code",
   "execution_count": 5,
   "metadata": {},
   "outputs": [
    {
     "name": "stdout",
     "output_type": "stream",
     "text": [
      "Found 75 unique names\n"
     ]
    }
   ],
   "source": [
    "# Preview the CSV\n",
    "import pandas as pd\n",
    "\n",
    "# Load the CSV file\n",
    "file_path = 'employee_review_mturk_dataset_test_v6_kaggle.csv'\n",
    "data = pd.read_csv(file_path)\n",
    "\n",
    "# Display the first few rows of the dataframe to understand its structure\n",
    "data.head()\n",
    "\n",
    "# For each unique name in the CSV\n",
    "unique_names = data['person_name'].unique()\n",
    "print(\"Found\", len(unique_names), \"unique names\")\n"
   ]
  },
  {
   "cell_type": "code",
   "execution_count": 7,
   "metadata": {},
   "outputs": [
    {
     "name": "stdout",
     "output_type": "stream",
     "text": [
      "Adding members to table: member\n",
      "Added records: 75\n",
      "Errors adding: 0\n"
     ]
    },
    {
     "data": {
      "text/plain": [
       "[]"
      ]
     },
     "execution_count": 7,
     "metadata": {},
     "output_type": "execute_result"
    }
   ],
   "source": [
    "from random import randint\n",
    "\n",
    "# Roster of entries\n",
    "records_added = 0\n",
    "failed_records: list[dict[str, str]] = []\n",
    "\n",
    "# Add the person to the member table\n",
    "print(\"Adding members to table:\", member_tb)\n",
    "for name in unique_names:\n",
    "    # Create a random employee id of 5 digits\n",
    "    employee_id = ''.join(str(randint(0, 9)) for _ in range(5))\n",
    "    try:\n",
    "        new_record = await db.create(member_tb, {\n",
    "        'name': name,\n",
    "        'employeeId': employee_id,\n",
    "        })\n",
    "        records_added = records_added + 1\n",
    "    except Exception as e:\n",
    "        failed_records.append({name, e})\n",
    "\n",
    "print(\"Added records:\", records_added)\n",
    "print(\"Errors adding:\", len(failed_records))\n",
    "failed_records"
   ]
  },
  {
   "cell_type": "code",
   "execution_count": 10,
   "metadata": {},
   "outputs": [
    {
     "data": {
      "text/plain": [
       "[{'result': [{'employeeId': '73286',\n",
       "    'id': 'member:08m4a63m65d0xl26h3ss',\n",
       "    'name': 'George Jones'},\n",
       "   {'employeeId': '13111',\n",
       "    'id': 'member:0iyikxq41nlze0257cpq',\n",
       "    'name': 'Daisy Pearce'},\n",
       "   {'employeeId': '47773',\n",
       "    'id': 'member:0ogoc9d0eg71st1kiziu',\n",
       "    'name': 'Archie Dawson'},\n",
       "   {'employeeId': '98876',\n",
       "    'id': 'member:0pnzfj9d49iw302bcfnq',\n",
       "    'name': 'Max Miller'},\n",
       "   {'employeeId': '91642',\n",
       "    'id': 'member:1toiwk6yk42jjytiaaj9',\n",
       "    'name': 'Jack Walsh'}],\n",
       "  'status': 'OK',\n",
       "  'time': '106.302µs'}]"
      ]
     },
     "execution_count": 10,
     "metadata": {},
     "output_type": "execute_result"
    }
   ],
   "source": [
    "# View some of the results\n",
    "await db.query(f\"SELECT * FROM {member_tb} LIMIT 5;\")"
   ]
  },
  {
   "cell_type": "markdown",
   "metadata": {},
   "source": [
    "## Add performance feedback\n",
    "\n",
    "- Assume that the last 5 names in the database are managers.\n",
    "- Randomly assign a manager to each feedback\n",
    "- Add the feedbackto an edge table using [RELATE](https://docs.surrealdb.com/docs/surrealql/statements/relate)\n",
    "- Demonstrate graph queries on the edge table"
   ]
  },
  {
   "cell_type": "code",
   "execution_count": 40,
   "metadata": {},
   "outputs": [
    {
     "name": "stdout",
     "output_type": "stream",
     "text": [
      "\n",
      "DEFINE TABLE feedback SCHEMAFULL;\n",
      "DEFINE FIELD member ON TABLE feedback TYPE record<member>;\n",
      "DEFINE FIELD rater ON TABLE feedback TYPE record<member>;\n",
      "DEFINE FIELD date on TABLE feedback TYPE datetime;\n",
      "DEFINE FIELD body ON TABLE feedback TYPE string;\n",
      "# Create index for faster query\n",
      "DEFINE INDEX memberIndex ON TABLE feedback COLUMNS member;\n",
      "\n"
     ]
    }
   ],
   "source": [
    "# Create a schemafull table for feedback\n",
    "feedback_tb = \"feedback\"\n",
    "createFeedbackQuery = f\"\"\"\n",
    "DEFINE TABLE {feedback_tb} SCHEMAFULL;\n",
    "DEFINE FIELD member ON TABLE {feedback_tb} TYPE record<member>;\n",
    "DEFINE FIELD rater ON TABLE {feedback_tb} TYPE record<member>;\n",
    "DEFINE FIELD date on TABLE {feedback_tb} TYPE datetime;\n",
    "DEFINE FIELD body ON TABLE {feedback_tb} TYPE string;\n",
    "# Create index for faster query\n",
    "DEFINE INDEX memberIndex ON TABLE {feedback_tb} COLUMNS member;\n",
    "\"\"\"\n",
    "\n",
    "print(createFeedbackQuery)"
   ]
  },
  {
   "cell_type": "code",
   "execution_count": 12,
   "metadata": {},
   "outputs": [
    {
     "name": "stdout",
     "output_type": "stream",
     "text": [
      "[{'result': {'events': {}, 'fields': {'body': 'DEFINE FIELD body ON feedback TYPE string', 'date': 'DEFINE FIELD date ON feedback TYPE datetime', 'member': 'DEFINE FIELD member ON feedback TYPE record<member>', 'rater': 'DEFINE FIELD rater ON feedback TYPE record<member>'}, 'indexes': {}, 'lives': {}, 'tables': {}}, 'status': 'OK', 'time': '209.823µs'}]\n"
     ]
    }
   ],
   "source": [
    "# If the command to create the table looks good, go ahead and create it.\n",
    "await db.query(createFeedbackQuery)\n",
    "# Verify the table was created\n",
    "print(await db.query(f\"INFO FOR TABLE {feedback_tb};\"))"
   ]
  },
  {
   "cell_type": "code",
   "execution_count": 23,
   "metadata": {},
   "outputs": [
    {
     "name": "stdout",
     "output_type": "stream",
     "text": [
      "['Jaxson Giles' 'Heidi Wallace' 'Zachary Doyle' 'Lauren Baker'\n",
      " 'George Jones']\n"
     ]
    }
   ],
   "source": [
    "# Assume managers are the last 5 names in the list\n",
    "managers = unique_names[-5:]\n",
    "print(managers)"
   ]
  },
  {
   "cell_type": "code",
   "execution_count": 39,
   "metadata": {},
   "outputs": [
    {
     "name": "stdout",
     "output_type": "stream",
     "text": [
      "Added records: 225\n",
      "Errors adding: 0\n"
     ]
    },
    {
     "data": {
      "text/plain": [
       "[]"
      ]
     },
     "execution_count": 39,
     "metadata": {},
     "output_type": "execute_result"
    }
   ],
   "source": [
    "from random import choice\n",
    "\n",
    "# Go through each feedback and add it to the database with a randomly selected manager\n",
    "feedback_df = data[['person_name','feedback']]\n",
    "# Roster of entries\n",
    "records_added = 0\n",
    "failed_records: list[dict[str, str]] = []\n",
    "\n",
    "# Add feedback\n",
    "for _, row in feedback_df.iterrows():\n",
    "    # Randomly generate datetime for when feedback happened\n",
    "    feedbackDate = str(randint(2019, 2023)) + \"-\" + str(randint(10,12)) + \"-\" + str(randint(10,28))\n",
    "    feedbackDate = feedbackDate + \"T00:00:00Z\"\n",
    "    try:\n",
    "        # Randomly select rater and get their member id\n",
    "        rater = choice(managers)\n",
    "        raterId = await db.query(f\"\"\"SELECT id FROM member WHERE name = \"{rater}\";\"\"\")\n",
    "        raterId = raterId[0][\"result\"][0][\"id\"]\n",
    "        # Get id of member. Doing this with employeeId would be better, but dataset limits\n",
    "        memberId = await db.query(f\"\"\"SELECT id FROM member WHERE name = \"{row.person_name}\";\"\"\")\n",
    "        memberId = memberId[0][\"result\"][0][\"id\"]\n",
    "        new_record = await db.create(feedback_tb, {\n",
    "        'member': memberId,\n",
    "        'rater' : raterId,\n",
    "        'date'  : feedbackDate,\n",
    "        'body'  : row.feedback,\n",
    "        })\n",
    "        records_added = records_added + 1\n",
    "    except Exception as e:\n",
    "        failed_records.append({name, e})\n",
    "\n",
    "print(\"Added records:\", records_added)\n",
    "print(\"Errors adding:\", len(failed_records))\n",
    "failed_records\n",
    "\n",
    "    "
   ]
  },
  {
   "cell_type": "markdown",
   "metadata": {},
   "source": [
    "### Query Feedback Records\n",
    "\n",
    "- Notice that the index makes queries much faster"
   ]
  },
  {
   "cell_type": "code",
   "execution_count": null,
   "metadata": {},
   "outputs": [],
   "source": [
    "# Get all of the records for a member\n",
    "\n",
    "crane_feedback = await db.query(\"SELECT * FROM feedback WHERE member=\")"
   ]
  }
 ],
 "metadata": {
  "kernelspec": {
   "display_name": ".venv",
   "language": "python",
   "name": "python3"
  },
  "language_info": {
   "codemirror_mode": {
    "name": "ipython",
    "version": 3
   },
   "file_extension": ".py",
   "mimetype": "text/x-python",
   "name": "python",
   "nbconvert_exporter": "python",
   "pygments_lexer": "ipython3",
   "version": "3.10.12"
  }
 },
 "nbformat": 4,
 "nbformat_minor": 2
}
